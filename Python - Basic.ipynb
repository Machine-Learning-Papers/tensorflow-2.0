{
 "cells": [
  {
   "cell_type": "markdown",
   "metadata": {},
   "source": [
    "# Python Basic\n",
    "> 출처\n",
    "1. https://www.edwith.org/aipython/joinLectures/27836\n",
    "\n",
    "* 데이터처리하는데 있어 파이썬에서 사용하는 기본적인 함수들"
   ]
  },
  {
   "cell_type": "markdown",
   "metadata": {},
   "source": [
    "---\n",
    "## 1. split & join\n",
    "\n",
    "### 1-1. split\n",
    "* split : String Type의 값을 설정한 기준에 따라 List Type로 변환."
   ]
  },
  {
   "cell_type": "code",
   "execution_count": 2,
   "metadata": {},
   "outputs": [
    {
     "name": "stdout",
     "output_type": "stream",
     "text": [
      "['python', 'basic', 'split']\n",
      "['python', 'java', 'c']\n",
      "a :  python ,b :  java ,c :  c\n"
     ]
    }
   ],
   "source": [
    "# split\n",
    "items = \"python basic split\".split() # 빈칸을 기준으로 리스트화.\n",
    "print(items)\n",
    "\n",
    "items = \"python,java,c\" \n",
    "print(items.split(\",\")) # ,을 기준으로 리스트화.\n",
    "\n",
    "# unpacking\n",
    "a, b, c = items.split(\",\")\n",
    "print(\"a : \",a,\",b : \",b,\",c : \",c)"
   ]
  },
  {
   "cell_type": "markdown",
   "metadata": {},
   "source": [
    "### 1-2. join\n",
    "* join : List Type의 값들을 설정한 기준에 따라 String Type으로 변환."
   ]
  },
  {
   "cell_type": "code",
   "execution_count": 3,
   "metadata": {},
   "outputs": [
    {
     "name": "stdout",
     "output_type": "stream",
     "text": [
      "redbluegreenyellow\n",
      "red blue green yellow\n",
      "red,blue,green,yellow\n"
     ]
    }
   ],
   "source": [
    "# 리스트를 문자열로 합치기.\n",
    "colors = ['red', 'blue', 'green', 'yellow']\n",
    "result = \"\".join(colors)\n",
    "print(result)\n",
    "\n",
    "# 리스트를 white space를 기준으로 문자열로 합치기\n",
    "result = \" \".join(colors)\n",
    "print(result)\n",
    "\n",
    "# 리스트를 ,의 기준으로 문자열 합치기\n",
    "result = \",\".join(colors)\n",
    "print(result)"
   ]
  },
  {
   "cell_type": "markdown",
   "metadata": {},
   "source": [
    "---\n",
    "## 2. List Comprehensions\n",
    "* 기존 List 사용하여 간단히 다른 List를 만드는 기법\n",
    "* 포괄적인 List, 포함되는 리스트라는 의미로 사용됨.\n",
    "* 파이썬에서 가장 많이 사용되는 기법 중 하나\n",
    "* 일반적으로 for + append 보다 속도가 빠름"
   ]
  },
  {
   "cell_type": "code",
   "execution_count": 5,
   "metadata": {},
   "outputs": [
    {
     "name": "stdout",
     "output_type": "stream",
     "text": [
      "[0, 1, 2, 3, 4, 5, 6, 7, 8, 9]\n",
      "[0, 1, 2, 3, 4, 5, 6, 7, 8, 9]\n",
      "[0, 2, 4, 6, 8]\n"
     ]
    }
   ],
   "source": [
    "# 일반적인 사용방법\n",
    "result = []\n",
    "for i in range(10):\n",
    "    result.append(i)\n",
    "print(result)\n",
    "\n",
    "# List Comprehension\n",
    "result = [i for i in range(10)]\n",
    "print(result)\n",
    "\n",
    "# List Comprehension & Filter\n",
    "result = [i for i in range(10) if i%2 == 0]\n",
    "print(result)"
   ]
  },
  {
   "cell_type": "code",
   "execution_count": 7,
   "metadata": {},
   "outputs": [
    {
     "name": "stdout",
     "output_type": "stream",
     "text": [
      "['HW', 'Ho', 'Hr', 'Hl', 'Hd', 'eW', 'eo', 'er', 'el', 'ed', 'lW', 'lo', 'lr', 'll', 'ld', 'lW', 'lo', 'lr', 'll', 'ld', 'oW', 'oo', 'or', 'ol', 'od']\n",
      "['HW', 'Ho', 'Hr', 'Hl', 'Hd', 'eW', 'eo', 'er', 'el', 'ed', 'lW', 'lo', 'lr', 'll', 'ld', 'lW', 'lo', 'lr', 'll', 'ld', 'oW', 'oo', 'or', 'ol', 'od']\n"
     ]
    }
   ],
   "source": [
    "word_1 = \"Hello\"\n",
    "word_2 = \"World\"\n",
    "\n",
    "# 일반적인 사용방법\n",
    "result = []\n",
    "for i in word_1:\n",
    "    for j in word_2:\n",
    "        result.append(i+j)\n",
    "print(result)\n",
    "        \n",
    "# List Comprehensions\n",
    "result = [i+j for i in word_1 for j in word_2]\n",
    "print(result)"
   ]
  },
  {
   "cell_type": "code",
   "execution_count": 10,
   "metadata": {},
   "outputs": [
    {
     "name": "stdout",
     "output_type": "stream",
     "text": [
      "['AD', 'AE', 'AA', 'BD', 'BE', 'BA', 'CD', 'CE', 'CA']\n",
      "['AD', 'AE', 'BD', 'BE', 'BA', 'CD', 'CE', 'CA']\n",
      "['AD', 'AE', 'BA', 'BD', 'BE', 'CA', 'CD', 'CE']\n"
     ]
    }
   ],
   "source": [
    "case_1 = [\"A\", \"B\", \"C\"]\n",
    "case_2 = [\"D\", \"E\", \"A\"]\n",
    "\n",
    "# List Comprehension\n",
    "result = [i+j for i in case_1 for j in case_2]\n",
    "print(result)\n",
    "\n",
    "# List Comprehension & Filter\n",
    "result = [i+j for i in case_1 for j in case_2 if not i==j]\n",
    "print(result)\n",
    "\n",
    "# List sort\n",
    "result.sort()\n",
    "print(result)"
   ]
  },
  {
   "cell_type": "code",
   "execution_count": 11,
   "metadata": {},
   "outputs": [
    {
     "name": "stdout",
     "output_type": "stream",
     "text": [
      "['The', 'quick', 'brown', 'fox', 'jumps', 'over', 'the', 'lazy', 'dog']\n",
      "[['THE', 'the', 3], ['QUICK', 'quick', 5], ['BROWN', 'brown', 5], ['FOX', 'fox', 3], ['JUMPS', 'jumps', 5], ['OVER', 'over', 4], ['THE', 'the', 3], ['LAZY', 'lazy', 4], ['DOG', 'dog', 3]]\n"
     ]
    }
   ],
   "source": [
    "words = 'The quick brown fox jumps over the lazy dog'.split()\n",
    "print(words)\n",
    "\n",
    "# 2 dimensional List Comprehension\n",
    "stuff = [[w.upper(), w.lower(), len(w)] for w in words]\n",
    "print(stuff)"
   ]
  },
  {
   "cell_type": "code",
   "execution_count": 12,
   "metadata": {},
   "outputs": [
    {
     "name": "stdout",
     "output_type": "stream",
     "text": [
      "['AD', 'AE', 'AA', 'BD', 'BE', 'BA', 'CD', 'CE', 'CA']\n",
      "[['AD', 'BD', 'CD'], ['AE', 'BE', 'CE'], ['AA', 'BA', 'CA']]\n"
     ]
    }
   ],
   "source": [
    "case_1 = [\"A\", \"B\", \"C\"]\n",
    "case_2 = [\"D\", \"E\", \"A\"]\n",
    "\n",
    "result = [a+b for a in case_1 for b in case_2]\n",
    "print(result)\n",
    "\n",
    "result = [[a+b for a in case_1] for b in case_2]\n",
    "print(result)"
   ]
  },
  {
   "cell_type": "markdown",
   "metadata": {},
   "source": [
    "---\n",
    "## 3. Enumerate & Zip\n",
    "* Enumerate :  상세하게 열거하다.\n",
    "* Zip : 압축하다, 지퍼로 잠그다.\n",
    "\n",
    "### 3-1. Enumerate\n",
    "* List의 element를 추출할 때 번호를 붙여서 추출"
   ]
  },
  {
   "cell_type": "code",
   "execution_count": 14,
   "metadata": {},
   "outputs": [
    {
     "name": "stdout",
     "output_type": "stream",
     "text": [
      "0 tic\n",
      "1 tac\n",
      "2 toe\n",
      "[(0, 'a'), (1, 'b'), (2, 'c'), (3, 'd')]\n",
      "{0: 'python', 1: 'basic', 2: 'is', 3: 'neccessary', 4: 'for', 5: 'everyone'}\n"
     ]
    }
   ],
   "source": [
    "# example 1\n",
    "for i,v in enumerate(['tic', 'tac', 'toe']):\n",
    "    print(i, v)\n",
    "\n",
    "\n",
    "# example 2\n",
    "exam_list = [\"a\", \"b\", \"c\", \"d\"]\n",
    "result = list(enumerate(exam_list))\n",
    "print(result)\n",
    "\n",
    "# example 3\n",
    "char_to_idx = {i:j for i,j in enumerate(\"python basic is neccessary for everyone\".split())}\n",
    "print(char_to_idx)\n",
    "\n"
   ]
  },
  {
   "cell_type": "markdown",
   "metadata": {},
   "source": [
    "### 3-2. Zip\n",
    "* 두 개의 list의 값을 병렬적으로 추출함"
   ]
  },
  {
   "cell_type": "code",
   "execution_count": 16,
   "metadata": {},
   "outputs": [
    {
     "name": "stdout",
     "output_type": "stream",
     "text": [
      "a1 b1\n",
      "a2 b2\n",
      "a3 b3\n",
      "(1, 10, 100) (2, 20, 200) (3, 30, 300)\n",
      "[111, 222, 333]\n"
     ]
    }
   ],
   "source": [
    "# example 1 ( 병렬적으로 값을 추출 )\n",
    "alist = [\"a1\", \"a2\", \"a3\"]\n",
    "blist = [\"b1\", \"b2\", \"b3\"]\n",
    "for a,b in zip(alist, blist):\n",
    "    print(a,b)\n",
    "\n",
    "# example 2 ( 병렬적으로 추출후 각 tuple의 같은 index끼리 묶음 )\n",
    "a, b, c = zip((1,2,3), (10,20,30), (100,200,300))\n",
    "print(a, b , c)\n",
    "\n",
    "result = [sum(x) for x in zip((1,2,3), (10,20,30), (100,200,300))]\n",
    "print(result)\n"
   ]
  },
  {
   "cell_type": "markdown",
   "metadata": {},
   "source": [
    "### 3-3. Enumerate & Zip"
   ]
  },
  {
   "cell_type": "code",
   "execution_count": 17,
   "metadata": {},
   "outputs": [
    {
     "name": "stdout",
     "output_type": "stream",
     "text": [
      "0 a1 b1\n",
      "1 a2 b2\n",
      "2 a3 b3\n"
     ]
    }
   ],
   "source": [
    "alist = [\"a1\", \"a2\", \"a3\"]\n",
    "blist = [\"b1\", \"b2\", \"b3\"]\n",
    "for i, (a,b) in enumerate(zip(alist, blist)):\n",
    "    print(i, a, b)"
   ]
  },
  {
   "cell_type": "markdown",
   "metadata": {},
   "source": [
    "---\n",
    "## 4. Lambda & Map Reduce\n",
    "\n",
    "### 4-1. Lambda\n",
    "* 함수 이름 없이, 함수처럼 쓸 수 있는 익명함수\n",
    "* 수학의 람다 대수에서 유래함"
   ]
  },
  {
   "cell_type": "code",
   "execution_count": 18,
   "metadata": {},
   "outputs": [
    {
     "name": "stdout",
     "output_type": "stream",
     "text": [
      "5\n",
      "5\n"
     ]
    }
   ],
   "source": [
    "# 기존의 코드\n",
    "def f(x,y):\n",
    "    return x+y\n",
    "print(f(1,4))\n",
    "\n",
    "# 람다 함수\n",
    "f = lambda x,y: x+y\n",
    "print(f(1,4))"
   ]
  },
  {
   "cell_type": "code",
   "execution_count": 19,
   "metadata": {},
   "outputs": [
    {
     "name": "stdout",
     "output_type": "stream",
     "text": [
      "1.5\n",
      "9\n",
      "6\n"
     ]
    }
   ],
   "source": [
    "# example\n",
    "f = lambda x: x/2\n",
    "print(f(3))\n",
    "\n",
    "f = lambda x: x**2\n",
    "print(f(3))\n",
    "\n",
    "print((lambda x: x+1)(5))"
   ]
  },
  {
   "cell_type": "markdown",
   "metadata": {},
   "source": [
    "### 4-2. Map\n",
    "* Map : Sequence 자료형(list, tuple) 각 element에 동일한 function을 적용함\n",
    "    * 각 입력하는 자료형(list or tuple)의 element에 동일한 function을 적용\n",
    "```python\n",
    "map(function_name, list_data)\n",
    "```"
   ]
  },
  {
   "cell_type": "code",
   "execution_count": 23,
   "metadata": {},
   "outputs": [
    {
     "name": "stdout",
     "output_type": "stream",
     "text": [
      "[1, 4, 9, 16, 25]\n",
      "[2, 4, 6, 8, 10]\n",
      "[1, 4, 3, 16, 5]\n"
     ]
    }
   ],
   "source": [
    "# example 1\n",
    "ex = [1,2,3,4,5]\n",
    "f = lambda x: x**2\n",
    "print(list(map(f, ex)))\n",
    "\n",
    "# example 2\n",
    "f = lambda x, y: x + y\n",
    "print(list(map(f, ex, ex)))\n",
    "\n",
    "# example 3 ( lambda filter )\n",
    "f = list(map(lambda x: x**2 if x % 2 == 0 else x, ex))\n",
    "print(f)"
   ]
  },
  {
   "cell_type": "markdown",
   "metadata": {},
   "source": [
    "### 4-3. Reduce\n",
    "* map function과 달리 list에 똑같은 함수를 적용해서 통합\n",
    "    * 통합!"
   ]
  },
  {
   "cell_type": "code",
   "execution_count": 25,
   "metadata": {},
   "outputs": [
    {
     "name": "stdout",
     "output_type": "stream",
     "text": [
      "15\n",
      "120\n"
     ]
    }
   ],
   "source": [
    "from functools import reduce\n",
    "print(reduce(lambda x,y:x+y, [1,2,3,4,5]))\n",
    "\n",
    "# example\n",
    "def factorial(n):\n",
    "    return reduce(lambda x,y : x*y, range(1,n+1))\n",
    "print(factorial(5))"
   ]
  },
  {
   "cell_type": "markdown",
   "metadata": {},
   "source": [
    "---\n",
    "## 5. set ( 집합 자료형 )\n",
    "\n",
    "### 5-1. set의 특징\n",
    "* 중복을 허용하지 않는다.\n",
    "* 순서가 없다 ( Unordered )\n",
    "    * 리스트나 튜플은 순서가 있기(ordered) 때문에 인덱싱을 통해 자료형의 값을 얻을 수 있지만 set 자료형은 순서가 없기(unordered) 때문에 인덱싱으로 값을 얻을 수 없다.\n",
    "    * 만약 set 자료형에 저장된 값을 인덱싱으로 접근하려면 리스트나 튜플로 변환한 후 해야한다."
   ]
  },
  {
   "cell_type": "code",
   "execution_count": 2,
   "metadata": {},
   "outputs": [
    {
     "name": "stdout",
     "output_type": "stream",
     "text": [
      "{1, 2, 3}\n",
      "{'e', 'l', 'H', 'o'}\n",
      "e\n"
     ]
    }
   ],
   "source": [
    "s1 = set([1,2,3])\n",
    "print(s1)\n",
    "\n",
    "s2 = set(\"Hello\")\n",
    "print(s2)\n",
    "\n",
    "print(list(s2)[0])"
   ]
  }
 ],
 "metadata": {
  "kernelspec": {
   "display_name": "Python 3",
   "language": "python",
   "name": "python3"
  },
  "language_info": {
   "codemirror_mode": {
    "name": "ipython",
    "version": 3
   },
   "file_extension": ".py",
   "mimetype": "text/x-python",
   "name": "python",
   "nbconvert_exporter": "python",
   "pygments_lexer": "ipython3",
   "version": "3.7.6"
  }
 },
 "nbformat": 4,
 "nbformat_minor": 2
}
