{
 "cells": [
  {
   "cell_type": "markdown",
   "metadata": {},
   "source": [
    "# 텐서플로우 기초 - 자료구조\n",
    "\n",
    "> 이번 챕터는 텐서플로우의 기본적인 자료구조를 설명한다.\n",
    "\n",
    "어떠한 프로그래밍 언어를 배울 때 데이터를 어떠한 공간에 담아야 하기 때문에 해당 언어의 간단한 자료구조에 대한 이해는 매우 중요하다.\n",
    "\n",
    "다행히 텐서플로우에서 자주 사용하는 변수의 데이터 타입은 4가지이며, 간단하다...\n",
    "\n",
    "## 목차\n",
    "1. Tensor\n",
    "2. Constant\n",
    "3. Variable\n",
    "4. Placeholder\n",
    "---"
   ]
  },
  {
   "attachments": {},
   "cell_type": "markdown",
   "metadata": {},
   "source": [
    "## 1. 텐서 ( Tensor )\n",
    "텐서플로우라는 이름은 모델링한 데이터 플로우 그래프에서 텐서들이 돌아다니는 것에서 유래됐다고 한다. (텐서플로우2.0부터는 즉시실행을 메인으로 한다.)\n",
    "\n",
    "### 1-1. 텐서의 개념\n",
    "* 텐서플로우에서는 텐서라는 자료구조로 모든 데이터를 표현한다.\n",
    "* 텐서는 동적 크기를 갖는 다차원 데이터 배열로 볼 수 있다. (보통 2차원인 행렬보다 높은 차원(3차원부터)를 텐서라고 많이 한다.)\n",
    "    * 정수, 문자열, 불리언 값들을 표현할 수 있다.\n",
    "* 텐서는 수학적인 개념이며, 간단하게 말해서는 데이터의 배열이라고 보면 된다.\n",
    "    * 텐서는 다차원 Array의 일반화 혹은 아무 차원이나 갖을 수 있는 값들의 집합.\n",
    "    * 텐서를 기존의 Numpy Array와 같게 봐도 무방하다.\n",
    "    \n",
    "### 1-2. 텐서의 구성 요소\n",
    "> Rank\n",
    "\n",
    "기존의 Numpy Array에서는 Array의 구조를 차원(dimension)으로 표현했지만, 텐서는 Rank라는 용어를 통해 텐서의 구조를 표현한다.\n",
    "<!-- ![1. 텐서플로우 기초-1](./img/1.텐서플로우기초-1.png) -->\n",
    "<img src=\"./img/1.텐서플로우기초-1.png\">\n",
    "( 출처 : 텐서플로우 공식 문서 )\n",
    "<img src=\"./img/1.텐서플로우기초-2.png\">\n",
    "( 출처 : Getting Started with TensorFlow(2016), Giancarlo Zaccone, Packt )\n",
    "#   \n",
    "> Shape\n",
    "\n",
    "텐서의 Shape은 텐서가 몇 개의 행과 열을 가지고 있는지 나타내는 지표이다. ( 텐서의 형태 )\n",
    "<img src=\"./img/1.텐서플로우기초-3.png\">\n",
    "( 출처 : 텐서플로우 공식 문서 )\n",
    "\n",
    "#   \n",
    "> Data-Type\n",
    "\n",
    "텐서가 담을 수 있는 데이터의 타입을 의미한다.\n",
    "<img src=\"./img/1.텐서플로우기초-4.png\">\n",
    "( 출처 : 텐서플로우 공식 문서 )\n",
    "\n",
    "### 1-3. 텐서의 예제\n"
   ]
  },
  {
   "cell_type": "code",
   "execution_count": 1,
   "metadata": {},
   "outputs": [
    {
     "name": "stdout",
     "output_type": "stream",
     "text": [
      "tf.Tensor(\n",
      "[[0. 0.]\n",
      " [0. 0.]], shape=(2, 2), dtype=float32)\n"
     ]
    }
   ],
   "source": [
    "import tensorflow as tf\n",
    "\n",
    "print(tf.zeros([2,2]))"
   ]
  },
  {
   "cell_type": "code",
   "execution_count": 2,
   "metadata": {},
   "outputs": [
    {
     "data": {
      "text/plain": [
       "tensorflow.python.framework.ops.EagerTensor"
      ]
     },
     "execution_count": 2,
     "metadata": {},
     "output_type": "execute_result"
    }
   ],
   "source": [
    "# 텐서의 데이터 타입\n",
    "type(tf.zeros([2,2]))"
   ]
  },
  {
   "cell_type": "markdown",
   "metadata": {},
   "source": [
    "---\n",
    "## 2. 상수 ( Constant )\n",
    "\n",
    "### 2-1. Constant 개념\n",
    "* 기존의 상수 개념과 동일하다. 값이 고정된 것을 말하며 숫자, 문자를 상수로 선언한다.\n",
    "* 변하지 않는 값을 상수로 저장한다."
   ]
  },
  {
   "cell_type": "code",
   "execution_count": 5,
   "metadata": {},
   "outputs": [
    {
     "data": {
      "text/plain": [
       "<tf.Tensor: id=8, shape=(), dtype=int32, numpy=100>"
      ]
     },
     "execution_count": 5,
     "metadata": {},
     "output_type": "execute_result"
    }
   ],
   "source": [
    "# 상수 선언\n",
    "tf.constant(100)\n",
    "\n",
    "# id : 텐서 객체의 고유 식별자 번호\n",
    "# shape : 텐서의 데이터 형태\n",
    "# dtype : 텐서의 데이터 타입\n",
    "# numpy : numpy형식의 데이터 형태 (텐서의 값을 파이썬의 변수로 변환할 때 사용된다.)"
   ]
  },
  {
   "cell_type": "code",
   "execution_count": 6,
   "metadata": {},
   "outputs": [
    {
     "data": {
      "text/plain": [
       "<tf.Tensor: id=9, shape=(2, 2), dtype=int32, numpy=\n",
       "array([[1, 2],\n",
       "       [3, 4]], dtype=int32)>"
      ]
     },
     "execution_count": 6,
     "metadata": {},
     "output_type": "execute_result"
    }
   ],
   "source": [
    "# 행렬 선언 및 생성\n",
    "tf.constant([[1,2],[3,4]])"
   ]
  },
  {
   "cell_type": "markdown",
   "metadata": {},
   "source": [
    "### 2-2. Constant 연산\n"
   ]
  },
  {
   "cell_type": "code",
   "execution_count": 7,
   "metadata": {},
   "outputs": [
    {
     "data": {
      "text/plain": [
       "<tf.Tensor: id=12, shape=(), dtype=int32, numpy=300>"
      ]
     },
     "execution_count": 7,
     "metadata": {},
     "output_type": "execute_result"
    }
   ],
   "source": [
    "# 텐서 상수 생성\n",
    "tensor_a = tf.constant(100)\n",
    "tensor_b = tf.constant(200)\n",
    "\n",
    "# 텐서 더하기\n",
    "tf.add(tensor_a, tensor_b)"
   ]
  },
  {
   "cell_type": "code",
   "execution_count": 8,
   "metadata": {},
   "outputs": [
    {
     "data": {
      "text/plain": [
       "<tf.Tensor: id=13, shape=(), dtype=int32, numpy=20000>"
      ]
     },
     "execution_count": 8,
     "metadata": {},
     "output_type": "execute_result"
    }
   ],
   "source": [
    "# 텐서 곱하기\n",
    "tf.multiply(tensor_a, tensor_b)"
   ]
  },
  {
   "cell_type": "code",
   "execution_count": 10,
   "metadata": {},
   "outputs": [
    {
     "data": {
      "text/plain": [
       "<tf.Tensor: id=18, shape=(2, 2), dtype=int32, numpy=\n",
       "array([[17, 20],\n",
       "       [37, 44]], dtype=int32)>"
      ]
     },
     "execution_count": 10,
     "metadata": {},
     "output_type": "execute_result"
    }
   ],
   "source": [
    "# 행렬 상수 생성\n",
    "tensor_mat_a = tf.constant([[1,2],[3,4]])\n",
    "tensor_mat_b = tf.constant([[3,4],[7,8]])\n",
    "\n",
    "# 행렬 곱셈\n",
    "tf.matmul(tensor_mat_a, tensor_mat_b)"
   ]
  },
  {
   "attachments": {},
   "cell_type": "markdown",
   "metadata": {},
   "source": [
    "### 2-3. Constant에 유용한 메소드\n",
    "<img src=\"./img/1.텐서플로우기초-5.png\">"
   ]
  },
  {
   "cell_type": "markdown",
   "metadata": {},
   "source": [
    "---\n",
    "## 3. Variable ( 변수 )\n",
    "\n",
    "### 3-1. Variable 개념\n",
    "* 변수란 상수와 반대로 값이 변하는 것을 말하며 숫자, 문자, 문장, 파일을 변수의 내용으로 가질 수 있다.\n",
    "* 보통 파라미터 ( 세타값 )를 저장하여 학습한 결과를 반영하도록하는데 사용된다.\n",
    "\n",
    "### 3-2. Variable 예제\n"
   ]
  },
  {
   "cell_type": "code",
   "execution_count": 12,
   "metadata": {},
   "outputs": [
    {
     "name": "stdout",
     "output_type": "stream",
     "text": [
      "<tf.Variable 'W:0' shape=(2, 2) dtype=float32, numpy=\n",
      "array([[1., 1.],\n",
      "       [1., 1.]], dtype=float32)>\n"
     ]
    }
   ],
   "source": [
    "W = tf.Variable(tf.ones(shape=(2,2)),name=\"W\")\n",
    "print(W)"
   ]
  },
  {
   "cell_type": "markdown",
   "metadata": {},
   "source": [
    "---\n",
    "## 4. Placeholder\n",
    "* 심볼릭 변수 Placeholder는 그래프에 사용할 입력값을 나중에 받기 위해 사용되었다. 모델을 훈련시킬 때, 데이터를 넣는 공간으로 사용되어 왔다. 하지만 텐서플로우 2.0으로 오면서 즉시실행이 디폴트가 됨에 따라서 deprecated 됐다."
   ]
  },
  {
   "cell_type": "code",
   "execution_count": null,
   "metadata": {},
   "outputs": [],
   "source": []
  }
 ],
 "metadata": {
  "kernelspec": {
   "display_name": "Python 3",
   "language": "python",
   "name": "python3"
  },
  "language_info": {
   "codemirror_mode": {
    "name": "ipython",
    "version": 3
   },
   "file_extension": ".py",
   "mimetype": "text/x-python",
   "name": "python",
   "nbconvert_exporter": "python",
   "pygments_lexer": "ipython3",
   "version": "3.7.6"
  }
 },
 "nbformat": 4,
 "nbformat_minor": 2
}
