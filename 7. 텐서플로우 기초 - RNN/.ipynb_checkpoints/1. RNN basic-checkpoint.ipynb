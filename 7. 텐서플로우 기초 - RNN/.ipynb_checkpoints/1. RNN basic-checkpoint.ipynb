{
 "cells": [
  {
   "cell_type": "markdown",
   "metadata": {},
   "source": [
    "# RNN Basic ( hello )\n",
    "> 출처\n",
    "1. https://www.edwith.org/boostcourse-dl-tensorflow/lecture/43750/\n",
    "2. https://github.com/deeplearningzerotoall/TensorFlow/blob/master/tf_2.x/lab-12-0-rnn-basics-keras-eager.ipynb\n",
    "3. https://www.slideshare.net/HwanheeKim2/20-rnn\n",
    "\n",
    "RNN의 개념과 RNN을 텐서플로우를 통해 구현하는 예제.\n",
    "* outputs : 전체 Sequence의 Hidden State값을 저장.\n",
    "* states : 마지막 Hidden State값만 저장."
   ]
  },
  {
   "cell_type": "code",
   "execution_count": 10,
   "metadata": {},
   "outputs": [
    {
     "name": "stdout",
     "output_type": "stream",
     "text": [
      "2.1.0\n"
     ]
    }
   ],
   "source": [
    "import tensorflow as tf\n",
    "print(tf.__version__)"
   ]
  },
  {
   "cell_type": "markdown",
   "metadata": {},
   "source": [
    "## Data & RNN basic\n",
    "* One cell : 4 (input_dim = word_dimension) in 2 (hidden_size)"
   ]
  },
  {
   "cell_type": "code",
   "execution_count": 7,
   "metadata": {},
   "outputs": [
    {
     "name": "stdout",
     "output_type": "stream",
     "text": [
      "x_data : [[[1. 0. 0. 0.]]], shape : (1, 1, 4)\n",
      "outputs : [[[-0.4124013   0.00342177]]], shape : (1, 1, 2)\n",
      "states : [[-0.4124013   0.00342177]], shape : (1, 2)\n"
     ]
    }
   ],
   "source": [
    "# Data ( one-hot encoding )\n",
    "h = [1, 0, 0, 0]\n",
    "e = [0, 1, 0, 0]\n",
    "l = [0, 0, 1, 0]\n",
    "o = [0, 0, 0, 1]\n",
    "\n",
    "# One cell RNN input_dim(word_dimension) (4) -> output_dim (2)\n",
    "x_data = tf.constant([[h]], dtype=tf.float32)\n",
    "\n",
    "# RNN\n",
    "hidden_size = 2 # num of units in each cell\n",
    "cell = tf.keras.layers.SimpleRNNCell(units=hidden_size) \n",
    "rnn = tf.keras.layers.RNN(cell, return_sequences=True, return_state=True)\n",
    "outputs, states = rnn(x_data)\n",
    "\n",
    "# equivalent to above case\n",
    "# rnn = tf.keras.layers.SimpleRNN(units=hidden_size, return_sequences=True,\n",
    "#                                return_state=True)\n",
    "# outputs, states = rnn(x_data)\n",
    "# SimpleRNNCell + RNN\n",
    "\n",
    "print(\"x_data : {}, shape : {}\".format(x_data, x_data.shape))\n",
    "print(\"outputs : {}, shape : {}\".format(outputs, outputs.shape))\n",
    "print(\"states : {}, shape : {}\".format(states, states.shape))"
   ]
  },
  {
   "cell_type": "markdown",
   "metadata": {},
   "source": [
    "## Unfolding to n Sequences\n",
    "* One cell : 4 (input_dim = word_dimension) in 2 (hidden_size).\n",
    "* Sequence : 5 (windows)"
   ]
  },
  {
   "cell_type": "code",
   "execution_count": 8,
   "metadata": {},
   "outputs": [
    {
     "name": "stdout",
     "output_type": "stream",
     "text": [
      "x_data : [[[1. 0. 0. 0.]\n",
      "  [0. 1. 0. 0.]\n",
      "  [0. 0. 1. 0.]\n",
      "  [0. 0. 1. 0.]\n",
      "  [0. 0. 0. 1.]]], shape : (1, 5, 4)\n",
      "outputs : [[[ 0.51772153  0.29977316]\n",
      "  [ 0.5411907   0.40885723]\n",
      "  [ 0.06704788  0.48807186]\n",
      "  [-0.33322874  0.2807916 ]\n",
      "  [-0.01820722 -0.4891092 ]]], shape : (1, 5, 2)\n",
      "states : [[-0.01820722 -0.4891092 ]], shape : (1, 2)\n"
     ]
    }
   ],
   "source": [
    "x_data = tf.constant([[h, e, l, l ,o]], dtype = tf.float32)\n",
    "\n",
    "hidden_size = 2\n",
    "cell = tf.keras.layers.SimpleRNNCell(units=hidden_size)\n",
    "rnn = tf.keras.layers.RNN(cell=cell, return_sequences=True,\n",
    "                         return_state=True)\n",
    "outputs, states = rnn(x_data)\n",
    "\n",
    "print(\"x_data : {}, shape : {}\".format(x_data, x_data.shape))\n",
    "print(\"outputs : {}, shape : {}\".format(outputs, outputs.shape))\n",
    "print(\"states : {}, shape : {}\".format(states, states.shape))"
   ]
  },
  {
   "cell_type": "markdown",
   "metadata": {},
   "source": [
    "## Batching Input ( word > 1 )\n",
    "* One cell : 4 (input_dim = word_dimension) in 2 (hidden_size).\n",
    "* Sequence : 5 (windows)\n",
    "* batch : num of word ( per batch )"
   ]
  },
  {
   "cell_type": "code",
   "execution_count": 9,
   "metadata": {},
   "outputs": [
    {
     "name": "stdout",
     "output_type": "stream",
     "text": [
      "x_data : [[[1. 0. 0. 0.]\n",
      "  [0. 1. 0. 0.]\n",
      "  [0. 0. 1. 0.]\n",
      "  [0. 0. 1. 0.]\n",
      "  [0. 0. 0. 1.]]\n",
      "\n",
      " [[0. 1. 0. 0.]\n",
      "  [0. 0. 0. 1.]\n",
      "  [0. 0. 1. 0.]\n",
      "  [0. 0. 1. 0.]\n",
      "  [0. 0. 0. 1.]]\n",
      "\n",
      " [[1. 0. 0. 0.]\n",
      "  [0. 0. 0. 1.]\n",
      "  [0. 0. 1. 0.]\n",
      "  [0. 0. 1. 0.]\n",
      "  [0. 0. 0. 1.]]], shape : (3, 5, 4)\n",
      "outputs : [[[ 0.3950158   0.6898297 ]\n",
      "  [ 0.23595047  0.75934714]\n",
      "  [-0.2826536   0.8417738 ]\n",
      "  [ 0.14640537  0.90814567]\n",
      "  [-0.0064027   0.93826574]]\n",
      "\n",
      " [[ 0.709172    0.4854523 ]\n",
      "  [-0.33091208  0.8025354 ]\n",
      "  [ 0.20470072  0.9053443 ]\n",
      "  [-0.31178397  0.8793908 ]\n",
      "  [ 0.3991405   0.9550888 ]]\n",
      "\n",
      " [[ 0.3950158   0.6898297 ]\n",
      "  [-0.14145282  0.88996136]\n",
      "  [-0.0010204   0.9055611 ]\n",
      "  [-0.13450319  0.8973389 ]\n",
      "  [ 0.2484923   0.94980085]]], shape : (3, 5, 2)\n",
      "states : [[-0.0064027   0.93826574]\n",
      " [ 0.3991405   0.9550888 ]\n",
      " [ 0.2484923   0.94980085]], shape : (3, 2)\n"
     ]
    }
   ],
   "source": [
    "x_data = tf.constant([[h, e, l, l, o],\n",
    "                     [e, o, l, l, o],\n",
    "                     [h, o, l, l ,o]], dtype=tf.float32)\n",
    "\n",
    "hidden_size = 2\n",
    "cell = tf.keras.layers.SimpleRNNCell(units=hidden_size)\n",
    "rnn = tf.keras.layers.RNN(cell=cell, return_sequences=True,\n",
    "                         return_state=True)\n",
    "outputs, states = rnn(x_data)\n",
    "\n",
    "print(\"x_data : {}, shape : {}\".format(x_data, x_data.shape))\n",
    "print(\"outputs : {}, shape : {}\".format(outputs, outputs.shape))\n",
    "print(\"states : {}, shape : {}\".format(states, states.shape))"
   ]
  }
 ],
 "metadata": {
  "kernelspec": {
   "display_name": "Python 3",
   "language": "python",
   "name": "python3"
  },
  "language_info": {
   "codemirror_mode": {
    "name": "ipython",
    "version": 3
   },
   "file_extension": ".py",
   "mimetype": "text/x-python",
   "name": "python",
   "nbconvert_exporter": "python",
   "pygments_lexer": "ipython3",
   "version": "3.7.6"
  }
 },
 "nbformat": 4,
 "nbformat_minor": 2
}
