{
 "cells": [
  {
   "cell_type": "markdown",
   "metadata": {},
   "source": [
    "# Linear Regression ( Multiple Feature )\n",
    "> 목적\n",
    "1. 텐서플로우2.0을 사용한 Linear Regression 구현"
   ]
  },
  {
   "cell_type": "code",
   "execution_count": 10,
   "metadata": {},
   "outputs": [],
   "source": [
    "from __future__ import absolute_import, division, print_function, unicode_literals\n",
    "import tensorflow as tf\n",
    "import numpy as np\n",
    "import pandas as pd\n",
    "import matplotlib.pyplot as plt"
   ]
  },
  {
   "cell_type": "markdown",
   "metadata": {},
   "source": [
    "## 1. 데이터 불러오기 및 전처리\n",
    "> 데이터 출처 : https://www.kaggle.com/mohansacharya/graduate-admissions\n",
    "\n",
    "pandas를 사용한 데이터 불러오기 및 전처리"
   ]
  },
  {
   "cell_type": "code",
   "execution_count": 11,
   "metadata": {},
   "outputs": [
    {
     "name": "stdout",
     "output_type": "stream",
     "text": [
      "(400, 9)\n",
      "Index(['Serial No.', 'GRE Score', 'TOEFL Score', 'University Rating', 'SOP',\n",
      "       'LOR ', 'CGPA', 'Research', 'Chance of Admit '],\n",
      "      dtype='object')\n"
     ]
    }
   ],
   "source": [
    "# 데이터 불러오기\n",
    "data = pd.read_csv('data/Admission_Predict.csv')\n",
    "print(data.shape) # 데이터의 형태\n",
    "print(data.columns) # 데이터 열 파악"
   ]
  },
  {
   "cell_type": "code",
   "execution_count": 12,
   "metadata": {},
   "outputs": [],
   "source": [
    "# 데이터 정제\n",
    "data_X = pd.DataFrame(data[[\"GRE Score\",\"TOEFL Score\",'University Rating','SOP','LOR ','CGPA']]).dropna()\n",
    "data_Y = pd.DataFrame(data[\"Chance of Admit \"]).dropna()\n",
    "\n",
    "# 텐서플로우 상수로 변환\n",
    "X = tf.constant(data_X.values/100,dtype=tf.float32) # 간단한 정규화를 위해 100으로 나누기.\n",
    "Y = tf.constant(data_Y.values,dtype=tf.float32)\n",
    "\n",
    "# 파라미터 설정\n",
    "W = tf.Variable(np.random.rand(6,1),dtype=tf.float32)\n",
    "b = tf.Variable(np.random.rand(1),dtype=tf.float32)\n",
    "\n",
    "# 하이퍼 파라미터 설정\n",
    "learning_rate = 0.0001 # 학습률\n",
    "num_epochs = 30 # 전체 데이터를 몇번 훈련 시킬지\n",
    "batch_size = 10 # 전체 데이터를 10개씩 쪼개서 데이터를 훈련\n",
    "num_data = X.shape[0] # 데이터 총개수"
   ]
  },
  {
   "cell_type": "markdown",
   "metadata": {},
   "source": [
    "## 2. 데이터 배치 처리\n",
    "데이터를 가지고 파라미터를 업데이트하는데 있어서, 매번 계산마다 모든 데이터의 값을 연산하여 비용함수를 구하고 미분을 하면 연산 과정이 길어지게되므로, 훈련시간이 길어지게 된다.\n",
    "이를 방지하기 위해, 데이터를 배치처리하는데 제일 자주 사용되는 방식이 Mini-Batch 방식이다.  \n",
    "[텐서플로우 기초]노트북에서 더 자세히 다루고 있다."
   ]
  },
  {
   "cell_type": "code",
   "execution_count": 13,
   "metadata": {},
   "outputs": [],
   "source": [
    "# 데이터 배치 처리\n",
    "dataset = tf.data.Dataset.from_tensor_slices((X,Y))\n",
    "dataset = dataset.repeat(num_epochs).batch(batch_size)\n",
    "iterator = dataset.__iter__()"
   ]
  },
  {
   "cell_type": "markdown",
   "metadata": {},
   "source": [
    "## 3. 함수 정의\n",
    "선형회귀를 훈련 및 예측하기 위해서는 3가지의 수학적 정의가 필요하다.\n",
    "1. hypothesis ( 가설함수 )\n",
    "2. cost_function ( 비용함수 )\n",
    "3. gradient_descent ( 경사 하강법 )\n",
    "\n",
    "여기서는 자세한 수학적 정의는 다루지 않겠습니다. 궁금하신 분들은 앤드류 응 교수님의 수업을 듣길 추천합니다."
   ]
  },
  {
   "cell_type": "code",
   "execution_count": 14,
   "metadata": {},
   "outputs": [],
   "source": [
    "# 가설 함수\n",
    "def hypothesis(x):\n",
    "    return tf.matmul(x,W)+b\n",
    "\n",
    "# 비용 함수\n",
    "def cost_function(y_true,y_pred):\n",
    "    return tf.reduce_mean(tf.square(y_pred-y_true))\n",
    "\n",
    "# 경사 하강법\n",
    "def gradient_descent(x,y):\n",
    "    with tf.GradientTape() as tape:\n",
    "        predict = hypothesis(x)\n",
    "        cost = cost_function(y, predict)\n",
    "\n",
    "        dJ_dW, dJ_db = tape.gradient(cost,[W,b])\n",
    "        W.assign_sub(learning_rate*dJ_dW)\n",
    "        b.assign_sub(learning_rate*dJ_db)"
   ]
  },
  {
   "cell_type": "markdown",
   "metadata": {},
   "source": [
    "## 4. 훈련\n",
    "데이터들을 가지고 경사하강법을 통해 파라미터를 업데이트한다."
   ]
  },
  {
   "cell_type": "code",
   "execution_count": 15,
   "metadata": {},
   "outputs": [
    {
     "name": "stdout",
     "output_type": "stream",
     "text": [
      "#0 \t W: [[0.53634673]\n",
      " [0.6496604 ]\n",
      " [0.6557311 ]\n",
      " [0.4955078 ]\n",
      " [0.9265502 ]\n",
      " [0.20634286]] \t b: [0.8354039] \t Cost: 6.552554\n",
      "#1 \t W: [[0.47363266]\n",
      " [0.62839735]\n",
      " [0.65512043]\n",
      " [0.4948353 ]\n",
      " [0.925868  ]\n",
      " [0.20464176]] \t b: [0.8156072] \t Cost: 5.3558245\n",
      "#2 \t W: [[0.4167644 ]\n",
      " [0.60911757]\n",
      " [0.65456724]\n",
      " [0.49422586]\n",
      " [0.9252498 ]\n",
      " [0.20309944]] \t b: [0.7976534] \t Cost: 4.37498\n",
      "#3 \t W: [[0.36519703]\n",
      " [0.59163606]\n",
      " [0.6540664 ]\n",
      " [0.4936737 ]\n",
      " [0.9246897 ]\n",
      " [0.20170115]] \t b: [0.7813706] \t Cost: 3.571352\n",
      "#4 \t W: [[0.31843674]\n",
      " [0.57578516]\n",
      " [0.6536124 ]\n",
      " [0.4931734 ]\n",
      " [0.92418206]\n",
      " [0.20043342]] \t b: [0.7666029] \t Cost: 2.9131765\n",
      "#5 \t W: [[0.27603516]\n",
      " [0.5614131 ]\n",
      " [0.65320134]\n",
      " [0.49272025]\n",
      " [0.92372227]\n",
      " [0.19928409]] \t b: [0.7532094] \t Cost: 2.3743572\n",
      "#6 \t W: [[0.23758617]\n",
      " [0.5483817 ]\n",
      " [0.6528293 ]\n",
      " [0.49230972]\n",
      " [0.92330563]\n",
      " [0.19824214]] \t b: [0.74106175] \t Cost: 1.9334577\n",
      "#7 \t W: [[0.20272142]\n",
      " [0.5365662 ]\n",
      " [0.6524925 ]\n",
      " [0.49193797]\n",
      " [0.9229282 ]\n",
      " [0.19729751]] \t b: [0.7300439] \t Cost: 1.572876\n",
      "#8 \t W: [[0.17110673]\n",
      " [0.52585346]\n",
      " [0.6521877 ]\n",
      " [0.49160135]\n",
      " [0.92258656]\n",
      " [0.19644117]] \t b: [0.7200508] \t Cost: 1.2781546\n",
      "#9 \t W: [[0.14243914]\n",
      " [0.5161404 ]\n",
      " [0.6519118 ]\n",
      " [0.49129656]\n",
      " [0.92227703]\n",
      " [0.19566487]] \t b: [0.71098644] \t Cost: 1.0374207\n",
      "#10 \t W: [[0.11644397]\n",
      " [0.50733393]\n",
      " [0.65166223]\n",
      " [0.49102065]\n",
      " [0.92199653]\n",
      " [0.19496118]] \t b: [0.7027646] \t Cost: 0.84093064\n",
      "#11 \t W: [[0.09287214]\n",
      " [0.4993497 ]\n",
      " [0.6514365 ]\n",
      " [0.4907709 ]\n",
      " [0.9217427 ]\n",
      " [0.19432333]] \t b: [0.6953066] \t Cost: 0.68068504\n",
      "#12 \t W: [[0.07149775]\n",
      " [0.49211088]\n",
      " [0.65123236]\n",
      " [0.4905449 ]\n",
      " [0.92151284]\n",
      " [0.19374515]] \t b: [0.6885413] \t Cost: 0.5501183\n",
      "#13 \t W: [[0.05211598]\n",
      " [0.48554808]\n",
      " [0.6510479 ]\n",
      " [0.49034038]\n",
      " [0.92130494]\n",
      " [0.19322112]] \t b: [0.68240416] \t Cost: 0.44384426\n",
      "#14 \t W: [[0.03454112]\n",
      " [0.47959816]\n",
      " [0.6508812 ]\n",
      " [0.49015546]\n",
      " [0.92111677]\n",
      " [0.19274615]] \t b: [0.6768364] \t Cost: 0.35744372\n",
      "#15 \t W: [[0.01860474]\n",
      " [0.47420415]\n",
      " [0.6507307 ]\n",
      " [0.48998806]\n",
      " [0.9209464 ]\n",
      " [0.19231568]] \t b: [0.67178524] \t Cost: 0.28729308\n",
      "#16 \t W: [[0.00415411]\n",
      " [0.46931416]\n",
      " [0.6505947 ]\n",
      " [0.4898369 ]\n",
      " [0.92079264]\n",
      " [0.1919256 ]] \t b: [0.6672025] \t Cost: 0.23042074\n",
      "#17 \t W: [[-0.00894925]\n",
      " [ 0.46488115]\n",
      " [ 0.6504718 ]\n",
      " [ 0.4897002 ]\n",
      " [ 0.92065346]\n",
      " [ 0.19157207]] \t b: [0.66304415] \t Cost: 0.18439093\n",
      "#18 \t W: [[-0.02083092]\n",
      " [ 0.4608627 ]\n",
      " [ 0.6503613 ]\n",
      " [ 0.48957673]\n",
      " [ 0.92052764]\n",
      " [ 0.19125172]] \t b: [0.6592716] \t Cost: 0.14720894\n",
      "#19 \t W: [[-0.03160477]\n",
      " [ 0.4572201 ]\n",
      " [ 0.6502616 ]\n",
      " [ 0.4894651 ]\n",
      " [ 0.9204139 ]\n",
      " [ 0.19096147]] \t b: [0.65584785] \t Cost: 0.11723931\n",
      "#20 \t W: [[-0.04137408]\n",
      " [ 0.45391822]\n",
      " [ 0.6501717 ]\n",
      " [ 0.48936433]\n",
      " [ 0.9203114 ]\n",
      " [ 0.19069849]] \t b: [0.65274084] \t Cost: 0.09314404\n",
      "#21 \t W: [[-0.05023247]\n",
      " [ 0.4509254 ]\n",
      " [ 0.6500906 ]\n",
      " [ 0.48927343]\n",
      " [ 0.9202186 ]\n",
      " [ 0.19046028]] \t b: [0.649921] \t Cost: 0.07382808\n",
      "#22 \t W: [[-0.05826484]\n",
      " [ 0.44821283]\n",
      " [ 0.6500175 ]\n",
      " [ 0.48919156]\n",
      " [ 0.92013496]\n",
      " [ 0.19024451]] \t b: [0.64736146] \t Cost: 0.058395606\n",
      "#23 \t W: [[-0.0655482 ]\n",
      " [ 0.44575432]\n",
      " [ 0.64995176]\n",
      " [ 0.4891177 ]\n",
      " [ 0.92005956]\n",
      " [ 0.19004913]] \t b: [0.6450381] \t Cost: 0.04611446\n",
      "#24 \t W: [[-0.07215235]\n",
      " [ 0.44352618]\n",
      " [ 0.64989316]\n",
      " [ 0.48905122]\n",
      " [ 0.9199915 ]\n",
      " [ 0.18987216]] \t b: [0.64292884] \t Cost: 0.03638644\n",
      "#25 \t W: [[-0.0781406 ]\n",
      " [ 0.441507  ]\n",
      " [ 0.64984053]\n",
      " [ 0.4889914 ]\n",
      " [ 0.9199302 ]\n",
      " [ 0.18971193]] \t b: [0.6410138] \t Cost: 0.0287233\n",
      "#26 \t W: [[-0.08357035]\n",
      " [ 0.4396773 ]\n",
      " [ 0.64979327]\n",
      " [ 0.4889376 ]\n",
      " [ 0.91987514]\n",
      " [ 0.18956687]] \t b: [0.63927454] \t Cost: 0.02272663\n",
      "#27 \t W: [[-0.08849365]\n",
      " [ 0.4380194 ]\n",
      " [ 0.6497509 ]\n",
      " [ 0.48888928]\n",
      " [ 0.91982555]\n",
      " [ 0.18943559]] \t b: [0.6376951] \t Cost: 0.018071994\n",
      "#28 \t W: [[-0.09295774]\n",
      " [ 0.43651724]\n",
      " [ 0.6497131 ]\n",
      " [ 0.48884588]\n",
      " [ 0.91978097]\n",
      " [ 0.18931673]] \t b: [0.63626045] \t Cost: 0.01449503\n",
      "#29 \t W: [[-0.0970054 ]\n",
      " [ 0.43515643]\n",
      " [ 0.6496795 ]\n",
      " [ 0.48880696]\n",
      " [ 0.919741  ]\n",
      " [ 0.18920918]] \t b: [0.6349571] \t Cost: 0.011780897\n"
     ]
    }
   ],
   "source": [
    "cost_log = []\n",
    "for epoch in range(num_epochs):\n",
    "\n",
    "    for batch in range(int(num_data/batch_size)):\n",
    "        x_batch, y_batch = iterator.get_next()\n",
    "\n",
    "        gradient_descent(x_batch,y_batch)\n",
    "        cost_value = cost_function(y_batch, hypothesis(x_batch))\n",
    "\n",
    "    print(\"#%s \\t W: %s \\t b: %s \\t Cost: %s\" % (epoch, W.numpy(), b.numpy(), cost_value.numpy()))\n",
    "    cost_log.append(cost_value)\n"
   ]
  },
  {
   "cell_type": "markdown",
   "metadata": {},
   "source": [
    "## 5. 모델평가\n",
    "비용함수의 그래프를 통해서 모델을 평가하려고 합니다. 테스트데이터를 따로 두고 하는 모델 평가는 인공신경망인 NN부터 할 예정입니다."
   ]
  },
  {
   "cell_type": "code",
   "execution_count": 16,
   "metadata": {},
   "outputs": [
    {
     "data": {
      "image/png": "[encoded data removed]",
      "text/plain": [
       "<Figure size 432x288 with 1 Axes>"
      ]
     },
     "metadata": {
      "needs_background": "light"
     },
     "output_type": "display_data"
    }
   ],
   "source": [
    "plt.plot(np.arange(30),cost_log,label=\"cost_value\")\n",
    "plt.xlabel(\"epoch\")\n",
    "plt.ylabel(\"cost\")\n",
    "plt.show()"
   ]
  },
  {
   "cell_type": "code",
   "execution_count": null,
   "metadata": {},
   "outputs": [],
   "source": []
  }
 ],
 "metadata": {
  "kernelspec": {
   "display_name": "Python 3",
   "language": "python",
   "name": "python3"
  },
  "language_info": {
   "codemirror_mode": {
    "name": "ipython",
    "version": 3
   },
   "file_extension": ".py",
   "mimetype": "text/x-python",
   "name": "python",
   "nbconvert_exporter": "python",
   "pygments_lexer": "ipython3",
   "version": "3.7.6"
  }
 },
 "nbformat": 4,
 "nbformat_minor": 2
}
