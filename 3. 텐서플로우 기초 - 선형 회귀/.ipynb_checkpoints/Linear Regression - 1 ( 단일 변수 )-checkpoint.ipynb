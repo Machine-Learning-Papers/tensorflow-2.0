{
 "cells": [
  {
   "cell_type": "markdown",
   "metadata": {},
   "source": [
    "# Linear Regression ( Single Feature )\n",
    "\n",
    "> 목적\n",
    "1. 텐서플로우2.0을 사용한 Linear Regression 구현"
   ]
  },
  {
   "cell_type": "code",
   "execution_count": 1,
   "metadata": {},
   "outputs": [],
   "source": [
    "from __future__ import absolute_import, division, print_function, unicode_literals\n",
    "import tensorflow as tf\n",
    "import numpy as np\n",
    "import pandas as pd\n",
    "import matplotlib.pyplot as plt"
   ]
  },
  {
   "cell_type": "markdown",
   "metadata": {},
   "source": [
    "## 1. 데이터 불러오기 및 전처리\n",
    "> 데이터 출처  https://www.kaggle.com/andonians/random-linear-regression\n",
    "\n",
    "pandas라이브러리를 사용하여 csv파일 읽은후 전처리 작업."
   ]
  },
  {
   "cell_type": "code",
   "execution_count": 2,
   "metadata": {},
   "outputs": [
    {
     "data": {
      "image/png": "[encoded data removed]",
      "text/plain": [
       "<Figure size 432x288 with 1 Axes>"
      ]
     },
     "metadata": {
      "needs_background": "light"
     },
     "output_type": "display_data"
    }
   ],
   "source": [
    "# 데이터 불러오기\n",
    "data = pd.read_csv(\"data/train.csv\")\n",
    "\n",
    "# 훈련 데이터와 라벨 데이터 분리 ( dropna는 nah값 없애는 정재 작업)\n",
    "data_X = data['x'].dropna() \n",
    "data_Y = data['y'].dropna()\n",
    "\n",
    "# 데이터 시각화\n",
    "plt.scatter(data_X, data_Y, label=\"data\")\n",
    "plt.xlabel(\"x\")\n",
    "plt.ylabel(\"y\")\n",
    "plt.legend()\n",
    "plt.show()"
   ]
  },
  {
   "cell_type": "code",
   "execution_count": 5,
   "metadata": {},
   "outputs": [
    {
     "data": {
      "image/png": "[encoded data removed]",
      "text/plain": [
       "<Figure size 432x288 with 1 Axes>"
      ]
     },
     "metadata": {
      "needs_background": "light"
     },
     "output_type": "display_data"
    }
   ],
   "source": [
    "# 데이터 텐서플로우형식으로 변환\n",
    "# 연산시 같은 숫자 형식이여야 오류가 없을 수 있으므로 dtype 설정해줌.\n",
    "X = tf.constant(data_X.values, dtype=tf.float32)\n",
    "Y = tf.constant(data_Y.values, dtype=tf.float32)\n",
    "\n",
    "# 파라미터 ( 세타값 설정 )\n",
    "W = tf.Variable(np.random.rand(), dtype=tf.float32)\n",
    "b = tf.Variable(np.random.rand(), dtype=tf.float32)\n",
    "\n",
    "# 하이퍼 파라미터\n",
    "learning_rate = 0.0001\n",
    "learning_steps = 50\n",
    "\n",
    "# 테스트\n",
    "plt.scatter(data_X,data_Y,label=\"data\")\n",
    "plt.plot(data_X, W*data_X+b, label=\"predict\",color=\"r\")\n",
    "plt.xlabel(\"x\")\n",
    "plt.ylabel(\"y\")\n",
    "plt.legend()\n",
    "plt.show()\n",
    "\n",
    "# (주의) 예측 직선의 파라미터 값이 랜덤이라서 실행마다 다르게 표시."
   ]
  },
  {
   "cell_type": "markdown",
   "metadata": {},
   "source": [
    "## 2. 함수 정의\n",
    "선형회귀를 훈련 및 예측하기 위해서는 3가지의 수학적 정의가 필요하다.\n",
    "1. hypothesis ( 가설함수 )\n",
    "2. cost_function ( 비용함수 )\n",
    "3. gradient_descent ( 경사 하강법 )\n",
    "\n",
    "여기서는 자세한 수학적 정의는 다루지 않겠습니다. 궁금하신 분들은 앤드류 응 교수님의 수업을 듣길 추천합니다."
   ]
  },
  {
   "cell_type": "code",
   "execution_count": 6,
   "metadata": {},
   "outputs": [],
   "source": [
    "# 가설 함수\n",
    "def hypothesis(x):\n",
    "    return W*x + b\n",
    "\n",
    "# 비용 함수\n",
    "def cost_function(y_true, y_pred):\n",
    "    return tf.reduce_mean(tf.square(y_pred - y_true))\n",
    "\n",
    "# 경사 하강법\n",
    "def gradient_descent(x,y):\n",
    "    # tf.GradientTape은 미분을 도와주는 API입니다. 자세한 내용은 2장 TensorFlow 2.0 정리에서 다룹니다.\n",
    "    with tf.GradientTape() as tape:\n",
    "        predict = hypothesis(x)\n",
    "        cost = cost_function(y, predict)\n",
    "        \n",
    "        # 미분함수의 W와 b에 대해서 미분 값 구하기.\n",
    "        dJ_dW, dJ_db = tape.gradient(cost, [W,b])\n",
    "        W.assign_sub(learning_rate*dJ_dW) \n",
    "        b.assign_sub(learning_rate*dJ_db)"
   ]
  },
  {
   "cell_type": "markdown",
   "metadata": {},
   "source": [
    "## 3. 훈련\n",
    "선형회귀에서는 훈련이라기 보다는 파라미터 업데이트?.. 에 가깝다고 생각합니다."
   ]
  },
  {
   "cell_type": "code",
   "execution_count": 7,
   "metadata": {},
   "outputs": [
    {
     "name": "stdout",
     "output_type": "stream",
     "text": [
      "#0 \t W: 0.8479855 \t b: 0.51910615 \t Cost: 76.40254\n",
      "#1 \t W: 0.94352424 \t b: 0.520506 \t Cost: 15.565818\n",
      "#2 \t W: 0.9753136 \t b: 0.5209504 \t Cost: 8.830445\n",
      "#3 \t W: 0.98589134 \t b: 0.52107674 \t Cost: 8.084749\n",
      "#4 \t W: 0.98941123 \t b: 0.52109736 \t Cost: 8.002183\n",
      "#5 \t W: 0.99058276 \t b: 0.52108276 \t Cost: 7.993033\n",
      "#6 \t W: 0.9909729 \t b: 0.5210565 \t Cost: 7.992009\n",
      "#7 \t W: 0.991103 \t b: 0.52102625 \t Cost: 7.9918876\n",
      "#8 \t W: 0.9911466 \t b: 0.5209948 \t Cost: 7.991865\n",
      "#9 \t W: 0.9911614 \t b: 0.52096283 \t Cost: 7.9918528\n",
      "#10 \t W: 0.99116665 \t b: 0.52093077 \t Cost: 7.9918427\n",
      "#11 \t W: 0.99116874 \t b: 0.52089864 \t Cost: 7.991833\n",
      "#12 \t W: 0.9911698 \t b: 0.5208665 \t Cost: 7.991823\n",
      "#13 \t W: 0.99117047 \t b: 0.5208344 \t Cost: 7.991811\n",
      "#14 \t W: 0.99117094 \t b: 0.52080226 \t Cost: 7.9918027\n",
      "#15 \t W: 0.9911715 \t b: 0.52077013 \t Cost: 7.9917927\n",
      "#16 \t W: 0.99117196 \t b: 0.520738 \t Cost: 7.9917817\n",
      "#17 \t W: 0.99117243 \t b: 0.5207059 \t Cost: 7.9917717\n",
      "#18 \t W: 0.9911729 \t b: 0.52067375 \t Cost: 7.991762\n",
      "#19 \t W: 0.9911734 \t b: 0.5206416 \t Cost: 7.9917507\n",
      "#20 \t W: 0.99117386 \t b: 0.5206095 \t Cost: 7.9917397\n",
      "#21 \t W: 0.9911744 \t b: 0.5205774 \t Cost: 7.9917297\n",
      "#22 \t W: 0.9911749 \t b: 0.52054524 \t Cost: 7.9917192\n",
      "#23 \t W: 0.99117535 \t b: 0.5205131 \t Cost: 7.9917088\n",
      "#24 \t W: 0.99117583 \t b: 0.520481 \t Cost: 7.991698\n",
      "#25 \t W: 0.9911763 \t b: 0.52044886 \t Cost: 7.9916883\n",
      "#26 \t W: 0.9911768 \t b: 0.52041674 \t Cost: 7.991678\n",
      "#27 \t W: 0.99117726 \t b: 0.5203846 \t Cost: 7.9916687\n",
      "#28 \t W: 0.99117774 \t b: 0.5203525 \t Cost: 7.9916573\n",
      "#29 \t W: 0.9911782 \t b: 0.52032036 \t Cost: 7.9916477\n",
      "#30 \t W: 0.9911787 \t b: 0.5202882 \t Cost: 7.9916377\n",
      "#31 \t W: 0.99117917 \t b: 0.5202561 \t Cost: 7.9916267\n",
      "#32 \t W: 0.99117965 \t b: 0.520224 \t Cost: 7.991615\n",
      "#33 \t W: 0.9911801 \t b: 0.52019185 \t Cost: 7.9916058\n",
      "#34 \t W: 0.9911806 \t b: 0.5201597 \t Cost: 7.9915957\n",
      "#35 \t W: 0.99118114 \t b: 0.5201276 \t Cost: 7.991585\n",
      "#36 \t W: 0.9911816 \t b: 0.52009547 \t Cost: 7.9915767\n",
      "#37 \t W: 0.9911821 \t b: 0.52006334 \t Cost: 7.991564\n",
      "#38 \t W: 0.99118257 \t b: 0.5200313 \t Cost: 7.9915543\n",
      "#39 \t W: 0.99118304 \t b: 0.5199992 \t Cost: 7.991544\n",
      "#40 \t W: 0.9911835 \t b: 0.51996714 \t Cost: 7.9915333\n",
      "#41 \t W: 0.991184 \t b: 0.5199351 \t Cost: 7.9915233\n",
      "#42 \t W: 0.9911845 \t b: 0.519903 \t Cost: 7.9915113\n",
      "#43 \t W: 0.99118495 \t b: 0.51987094 \t Cost: 7.9915023\n",
      "#44 \t W: 0.9911854 \t b: 0.51983887 \t Cost: 7.9914913\n",
      "#45 \t W: 0.9911859 \t b: 0.5198068 \t Cost: 7.991482\n",
      "#46 \t W: 0.9911864 \t b: 0.51977473 \t Cost: 7.9914703\n",
      "#47 \t W: 0.99118686 \t b: 0.51974267 \t Cost: 7.991462\n",
      "#48 \t W: 0.99118733 \t b: 0.5197106 \t Cost: 7.991451\n",
      "#49 \t W: 0.9911878 \t b: 0.51967853 \t Cost: 7.9914412\n"
     ]
    }
   ],
   "source": [
    "# 비용함수 저장용 리스트\n",
    "cost_log = []\n",
    "for step in range(learning_steps):\n",
    "    # 경사 하강법 실행 ( 파라미터 업데이트 )\n",
    "    gradient_descent(X,Y)\n",
    "    \n",
    "    # 비용함수값 저장\n",
    "    cost = cost_function(Y, hypothesis(X))\n",
    "    cost_log.append(cost)\n",
    "    print(\"#%s \\t W: %s \\t b: %s \\t Cost: %s\" % (step, W.numpy(), b.numpy(), cost.numpy()))\n",
    "    \n",
    "    \n",
    "    \n",
    "    \n",
    "    "
   ]
  },
  {
   "cell_type": "markdown",
   "metadata": {},
   "source": [
    "# 4. 모델 평가\n",
    "훈련된 파라미터 값을 사용해서 기존의 데이터와 모델을 평가합니다.\n",
    "기존엔 훈련 데이터와 테스트 데이터를 나눠서 하지만, 간단히 선형회귀를 구현하는게 목적이므로 시각화를 통해서 결과만을 보도록 하겠습니다.\n"
   ]
  },
  {
   "cell_type": "code",
   "execution_count": 8,
   "metadata": {},
   "outputs": [
    {
     "data": {
      "image/png": "[encoded data removed]",
      "text/plain": [
       "<Figure size 432x288 with 1 Axes>"
      ]
     },
     "metadata": {
      "needs_background": "light"
     },
     "output_type": "display_data"
    }
   ],
   "source": [
    "# 훈련된 파라미터 시각화\n",
    "plt.scatter(data_X,data_Y,label=\"data\")\n",
    "plt.plot(data_X, hypothesis(data_X), label=\"predict\", color=\"r\")\n",
    "plt.xlabel(\"x\")\n",
    "plt.ylabel(\"y\")\n",
    "plt.legend()\n",
    "plt.show()"
   ]
  },
  {
   "cell_type": "code",
   "execution_count": null,
   "metadata": {},
   "outputs": [],
   "source": []
  }
 ],
 "metadata": {
  "kernelspec": {
   "display_name": "Python 3",
   "language": "python",
   "name": "python3"
  },
  "language_info": {
   "codemirror_mode": {
    "name": "ipython",
    "version": 3
   },
   "file_extension": ".py",
   "mimetype": "text/x-python",
   "name": "python",
   "nbconvert_exporter": "python",
   "pygments_lexer": "ipython3",
   "version": "3.7.6"
  }
 },
 "nbformat": 4,
 "nbformat_minor": 2
}
