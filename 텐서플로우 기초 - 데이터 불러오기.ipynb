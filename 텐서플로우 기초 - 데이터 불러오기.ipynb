{
 "cells": [
  {
   "cell_type": "markdown",
   "metadata": {},
   "source": [
    "# 데이터 불러오기\n",
    "\n",
    "모든 데이터 훈련과 평가에 기본은 데이터를 불러오는 것이다.\n",
    "이번 챕터에서는 텐서플로우에서 데이터를 불러오는 방법에 대해서 다뤄본다.\n",
    "\n",
    "> 참고\n",
    "1. https://medium.com/@grandbleu916/tensorflow-2-0-csv-%ED%8C%8C%EC%9D%BC-%ED%98%95%EC%8B%9D-%EB%8D%B0%EC%9D%B4%ED%84%B0-%EA%B0%80%EC%A0%B8%EC%98%A4%EA%B8%B0-eddaa88d3112\n",
    "\n",
    "*텐서플로우 2.0에서는 pandas를 사용하지 않아도 csv파일을 불러올 수 있게 되었습니다.\n",
    "\n",
    "## 1. csv\n",
    "\n",
    "### 1-1. csv 파일이란?\n",
    "* csv파일은 엑셀 파일과 똑같은 형태를 띈 파일입니다. \n",
    "* 프로그래밍 환경에서 데이터를 처리하기 쉽게 쉼표로 항목을 구분한 형태로 되어 있습니다.\n",
    "\n",
    "### 1-2. csv파일을 불러오는 방법\n",
    "1. numpy를 사용하는 방법\n"
   ]
  },
  {
   "cell_type": "code",
   "execution_count": null,
   "metadata": {},
   "outputs": [],
   "source": [
    "import numpy as np\n",
    "\n",
    "# 데이터 파일 위치 URL\n",
    "DATA_URL = \"data/train.csv\"\n",
    "\n",
    "# np.loadtxt(\"파일경로\", 파일에서 사용한 구분자, 데이터타입 지정)\n",
    "# 본래 텍스트를 불러오는 함수인데, 구분자를 지정할 수 있어 csv 파일을 불러올 수 있다.\n",
    "data = np.loadtxt(DATA_URL, delimiter=\",\",dtype=np.float32)\n"
   ]
  },
  {
   "cell_type": "markdown",
   "metadata": {},
   "source": [
    "2. pandas를 사용하는 방법\n"
   ]
  },
  {
   "cell_type": "code",
   "execution_count": 3,
   "metadata": {},
   "outputs": [
    {
     "name": "stdout",
     "output_type": "stream",
     "text": [
      "      x          y\n",
      "0  24.0  21.549452\n",
      "1  50.0  47.464463\n",
      "2  15.0  17.218656\n",
      "3  38.0  36.586398\n",
      "4  87.0  87.288984\n",
      "                 x           y\n",
      "count   700.000000  699.000000\n",
      "mean     54.985939   49.939869\n",
      "std     134.681703   29.109217\n",
      "min       0.000000   -3.839981\n",
      "25%      25.000000   24.929968\n",
      "50%      49.000000   48.973020\n",
      "75%      75.000000   74.929911\n",
      "max    3530.157369  108.871618\n"
     ]
    }
   ],
   "source": [
    "import pandas as pd\n",
    "\n",
    "# 데이터 파일 위치 URL\n",
    "DATA_URL = \"data/train.csv\"\n",
    "\n",
    "# 데이터 불러오기\n",
    "data = pd.read_csv(DATA_URL)\n",
    "\n",
    "# 데이터 출력 ( 앞 5개만 )\n",
    "print(data[:5])\n",
    "\n",
    "# 데이터 정보\n",
    "print(data.describe())\n"
   ]
  },
  {
   "cell_type": "markdown",
   "metadata": {},
   "source": [
    "3. tensorflow를 사용하는 방법\n",
    "    * csv 파일이 다수가 있어서 읽어 오는 과정을 반복적으로 수행하여야 할 때"
   ]
  }
 ],
 "metadata": {
  "kernelspec": {
   "display_name": "Python 3",
   "language": "python",
   "name": "python3"
  },
  "language_info": {
   "codemirror_mode": {
    "name": "ipython",
    "version": 3
   },
   "file_extension": ".py",
   "mimetype": "text/x-python",
   "name": "python",
   "nbconvert_exporter": "python",
   "pygments_lexer": "ipython3",
   "version": "3.7.6"
  }
 },
 "nbformat": 4,
 "nbformat_minor": 2
}
