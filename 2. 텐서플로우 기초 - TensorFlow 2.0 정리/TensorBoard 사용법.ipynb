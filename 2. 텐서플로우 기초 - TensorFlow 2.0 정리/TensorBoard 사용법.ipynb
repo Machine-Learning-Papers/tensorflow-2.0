{
 "cells": [
  {
   "cell_type": "markdown",
   "metadata": {},
   "source": [
    "# TensorBoard\n",
    "> 참고\n",
    "1. https://www.tensorflow.org/tensorboard/get_started\n",
    "\n",
    "\n",
    "기존에 Cost, Accuracy같은 값들을 전부 리스트에 담아 저장하여 matplotlib으로 시각화를 하였지만, 텐서플로우에서는 TensorBoard라는 라이브러리를 제공하므로써 이러한 작업을 최소한으로 줄여주었다.  \n",
    "간단한 네트워크에서는 왜 쓰나 싶지만, 네트워크가 많아지면 효율적일듯 싶다."
   ]
  },
  {
   "cell_type": "markdown",
   "metadata": {},
   "source": [
    "## 1. Keras\n",
    "TensorFlow 2.0의 Keras에는 공식적으로 callback기능을 제공하는데, 텐서보드 또한 이 콜백을 사용하여 파라미터, 그래프, 여러 값들을 저장한다."
   ]
  },
  {
   "cell_type": "code",
   "execution_count": null,
   "metadata": {},
   "outputs": [],
   "source": [
    "log_dir=\"./log/test\"\n",
    "tensorboard_callback = tf.keras.callbacks.TensorBoard(log_dir=log_dir)\n",
    "\n",
    "model.fit(dataset, epochs=1000, callbacks[tensorboard_callback])"
   ]
  },
  {
   "cell_type": "markdown",
   "metadata": {},
   "source": [
    "* 케라스에서는 이렇게 콜백 등록만 해주면 끝이다.\n",
    "* 텐서보드 실행시 터미널에 아래와 같이 입력해주면 된다.\n",
    "```python\n",
    "tensorboard --host 127.0.0.1 --port 8080 --logdir==파일위치\n",
    "```"
   ]
  },
  {
   "cell_type": "markdown",
   "metadata": {},
   "source": [
    "## 2. Eager Excution\n",
    "> 참조 : https://github.com/deeplearningzerotoall/TensorFlow/blob/master/tf_2.x/lab-09-4-XOR-tensorboard-eager.ipynb\n",
    "\n",
    "\n",
    "Eager Excution모드에서는 따로 파라미터별 및 여러 값들 별로 저장하고자 하는 값들을 직접 지정해줘야 한다."
   ]
  },
  {
   "cell_type": "code",
   "execution_count": null,
   "metadata": {},
   "outputs": [],
   "source": [
    "# 저장소 생성\n",
    "log_path = \"./logs/test\"\n",
    "writer = tf.summary.create_file_writer(log_path)\n",
    "\n",
    "# 파라미터 저장시 ( histogram 사용 )\n",
    "with writer.as_default():\n",
    "    tf.summary.histogram(\"weight1\", W1, step=step)\n",
    "    tf.summary.histogram(\"biases1\", b1, step=step)\n",
    "\n",
    "# 일반 값 저장시 ( 비용함수, 정확도 )\n",
    "with writer.as_default():\n",
    "    tf.summary.scalar(\"cost\", cost, step=step)"
   ]
  }
 ],
 "metadata": {
  "kernelspec": {
   "display_name": "Python 3",
   "language": "python",
   "name": "python3"
  },
  "language_info": {
   "codemirror_mode": {
    "name": "ipython",
    "version": 3
   },
   "file_extension": ".py",
   "mimetype": "text/x-python",
   "name": "python",
   "nbconvert_exporter": "python",
   "pygments_lexer": "ipython3",
   "version": "3.7.6"
  }
 },
 "nbformat": 4,
 "nbformat_minor": 2
}
