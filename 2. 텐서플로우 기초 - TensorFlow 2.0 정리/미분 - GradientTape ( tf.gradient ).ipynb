{
 "cells": [
  {
   "cell_type": "markdown",
   "metadata": {},
   "source": [
    "# 1. 텐서플로우 2.0 미분\n",
    "\n",
    "> 출처\n",
    "\n",
    "선형회귀, 로지스틱회귀, 인공신경망등등 여러 데이터를 훈련 시킬 때 제일 기본이 되는 방식은 비용함수를 통해 비용함수를 구하고, 비용함수가 최소화 되는 파라미터를 업데이트 시키는 방식이다. 파라미터를 훈련시키기 위해서는 여러가지의 경사하강법이 존재하지만, 수학적 계산에서 제일 중요한 점은 미분이라 생각든다. ( 실제 텐서플로우 2.0에서 어떻게 미분 처리하는지를 몰라서 이렇게 새로운 노트북을 작성한다. )\n",
    "\n",
    "## 1-1. tf.GradientTape\n",
    "* 텐서플로우 2.0부터 GradientTape이라는 메소드가 새로 생겼다. 만약 GradientTape을 사용하지 않고 바로 미분을 구하려고하면 아래와 같은 런타임 에러가 발생한다.  \n",
    "[RuntimeError: tf.gradients is not supported when eager execution is enabled. Use tf.GradientTape instead.]\n",
    "* 자동 미분 ( 주어진 입력 변수에 대한 연산의 그래디언트를 계산하는 것 )을 위한 API.\n",
    "* 텐서플로 즉시 실행에서는 with tf.GradientTape() as tape: 안에서 계산을 하면 tape에 계산 과정을 기록해두었다가 tape.gradient를 이용해서 미분을 자동으로 구할 수 있다.\n",
    "* tf.GradientTape는 컨텍스트안에 실행된 모든 연산을 테이프에 기록한다고 한다.\n",
    "> 출처  \n",
    "https://www.tensorflow.org/tutorials/customization/autodiff?hl=ko  \n",
    "https://www.tensorflow.org/api_docs/python/tf/GradientTape?hl=ko"
   ]
  },
  {
   "cell_type": "code",
   "execution_count": 3,
   "metadata": {},
   "outputs": [
    {
     "data": {
      "text/plain": [
       "<tf.Tensor: id=14, shape=(), dtype=float32, numpy=6.0>"
      ]
     },
     "execution_count": 3,
     "metadata": {},
     "output_type": "execute_result"
    }
   ],
   "source": [
    "import tensorflow as tf\n",
    "import numpy as np\n",
    "\n",
    "# 간단한 미분 예제\n",
    "x = tf.constant(3.0)\n",
    "b = tf.constant(5.0)\n",
    "\n",
    "with tf.GradientTape() as tape:\n",
    "    tape.watch(x) # x값에 대해서 미분 및 기록 (주관적 해석이다..)\n",
    "    y = x*x + b\n",
    "\n",
    "tape.gradient(y,x)"
   ]
  },
  {
   "cell_type": "code",
   "execution_count": null,
   "metadata": {},
   "outputs": [],
   "source": []
  }
 ],
 "metadata": {
  "kernelspec": {
   "display_name": "Python 3",
   "language": "python",
   "name": "python3"
  },
  "language_info": {
   "codemirror_mode": {
    "name": "ipython",
    "version": 3
   },
   "file_extension": ".py",
   "mimetype": "text/x-python",
   "name": "python",
   "nbconvert_exporter": "python",
   "pygments_lexer": "ipython3",
   "version": "3.7.6"
  }
 },
 "nbformat": 4,
 "nbformat_minor": 2
}
