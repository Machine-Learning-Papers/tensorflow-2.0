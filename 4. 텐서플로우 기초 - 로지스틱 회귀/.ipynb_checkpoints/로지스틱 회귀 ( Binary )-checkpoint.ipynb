{
 "cells": [
  {
   "cell_type": "markdown",
   "metadata": {},
   "source": [
    "# Logistic Regression ( Binary Classification )\n"
   ]
  },
  {
   "cell_type": "code",
   "execution_count": 1,
   "metadata": {},
   "outputs": [],
   "source": [
    "from __future__ import absolute_import, division, print_function, unicode_literals\n",
    "import tensorflow as tf\n",
    "import numpy as np\n",
    "import pandas as pd\n",
    "from sklearn.model_selection import train_test_split\n",
    "import matplotlib.pyplot as plt"
   ]
  },
  {
   "cell_type": "markdown",
   "metadata": {},
   "source": [
    "## 1. 데이터 불러오기 및 전처리"
   ]
  },
  {
   "cell_type": "code",
   "execution_count": 2,
   "metadata": {},
   "outputs": [
    {
     "name": "stdout",
     "output_type": "stream",
     "text": [
      "(100, 6)\n",
      "<class 'pandas.core.frame.DataFrame'>\n",
      "RangeIndex: 100 entries, 0 to 99\n",
      "Data columns (total 6 columns):\n",
      "Id               100 non-null int64\n",
      "SepalLengthCm    100 non-null float64\n",
      "SepalWidthCm     100 non-null float64\n",
      "PetalLengthCm    100 non-null float64\n",
      "PetalWidthCm     100 non-null float64\n",
      "Species          100 non-null object\n",
      "dtypes: float64(4), int64(1), object(1)\n",
      "memory usage: 4.8+ KB\n",
      "None\n",
      "Index(['Id', 'SepalLengthCm', 'SepalWidthCm', 'PetalLengthCm', 'PetalWidthCm',\n",
      "       'Species'],\n",
      "      dtype='object')\n"
     ]
    }
   ],
   "source": [
    "# 데이터 불러오기 ( Binary분류를 위해서 데이터중 100개까지만 불러오기 )\n",
    "data = pd.read_csv(\"Iris.csv\")[:100]\n",
    "\n",
    "# 데이터 정보\n",
    "print(data.shape)\n",
    "print(data.info())\n",
    "print(data.columns)"
   ]
  },
  {
   "cell_type": "code",
   "execution_count": 3,
   "metadata": {},
   "outputs": [],
   "source": [
    "# 데이터 정재 ( 필요없는 열 업애기 )\n",
    "data = data.drop(labels=['Id'],axis=1)\n",
    "\n",
    "# y값 one-hot encoding\n",
    "data['Species'] = data['Species'].replace(to_replace=['Iris-setosa', 'Iris-versicolor'],value=[0,1])\n",
    "\n",
    "# 훈련 데이터, 검증 데이터 나누기\n",
    "train_data, test_data = train_test_split(data, test_size=0.2)\n",
    "\n",
    "train_X = train_data.drop(labels=['Species'],axis=1).values\n",
    "train_Y = train_data['Species']\n",
    "\n",
    "test_X = test_data.drop(labels=['Species'],axis=1).values\n",
    "test_Y = test_data['Species']"
   ]
  },
  {
   "cell_type": "markdown",
   "metadata": {},
   "source": [
    "## 2. 정규화"
   ]
  },
  {
   "cell_type": "code",
   "execution_count": 4,
   "metadata": {},
   "outputs": [],
   "source": [
    "# 정규화 ( Normalization )\n",
    "def min_max_normalized(data):\n",
    "    col_max = np.max(data, axis=0)\n",
    "    col_min = np.min(data, axis=0)\n",
    "    return np.divide(data - col_min, col_max - col_min)\n",
    "\n",
    "train_X = min_max_normalized(train_X)\n",
    "test_X = min_max_normalized(test_X)"
   ]
  },
  {
   "cell_type": "code",
   "execution_count": 5,
   "metadata": {},
   "outputs": [],
   "source": [
    "# 텐서플로우 상수로 변환\n",
    "train_X = tf.constant(train_X, dtype=tf.float32)\n",
    "train_Y = tf.constant(train_Y, dtype=tf.float32)\n",
    "\n",
    "test_X = tf.constant(test_X, dtype=tf.float32)\n",
    "test_Y = tf.constant(test_Y, dtype=tf.float32)"
   ]
  },
  {
   "cell_type": "markdown",
   "metadata": {},
   "source": [
    "## 3. 파라미터 설정"
   ]
  },
  {
   "cell_type": "code",
   "execution_count": 9,
   "metadata": {},
   "outputs": [],
   "source": [
    "# 파라미터 설정\n",
    "W = tf.Variable(np.random.rand(4,1), dtype=tf.float32)\n",
    "b = tf.Variable(np.random.rand(), dtype=tf.float32)\n",
    "\n",
    "# 하이퍼 파라미터 설정\n",
    "learning_rate = 0.003\n",
    "num_epochs = 2000\n"
   ]
  },
  {
   "cell_type": "markdown",
   "metadata": {},
   "source": [
    "## 4. 함수 정의"
   ]
  },
  {
   "cell_type": "code",
   "execution_count": 10,
   "metadata": {},
   "outputs": [],
   "source": [
    "# 함수 정의 - 가설함수(Hypothesis)에 시그모이드 함수를 적용. ( softmax를 사용하여도 된다. )\n",
    "def hypothesis(x):\n",
    "    # return tf.nn.softmax(tf.matmul(x,W)+b)\n",
    "    return tf.sigmoid(tf.matmul(x,W)+b)\n",
    "\n",
    "# 비용 함수 - Cross-Entropy 사용한 비용 함수.\n",
    "def cost_function(y_true, y_pred):\n",
    "    return -tf.reduce_mean((y_true*tf.math.log(y_pred)) + ((1.0 - y_true)*tf.math.log(1.0 - y_pred)))\n",
    "\n",
    "def run_optimizer(x,y):\n",
    "    with tf.GradientTape() as tape:\n",
    "        predict = hypothesis(x)\n",
    "        cost = cost_function(y, predict)\n",
    "\n",
    "    dJ_dW, dJ_db = tape.gradient(cost,[W,b])\n",
    "    W.assign_sub(learning_rate*dJ_dW)\n",
    "    b.assign_sub(learning_rate*dJ_db)\n",
    "    \n",
    "# optimizer = tf.optimizers.SGD(learning_rate)\n",
    "#\n",
    "# def run_optimizer(x, y):\n",
    "#     with tf.GradientTape() as tape:\n",
    "#         predict = hypothesis(train_X)\n",
    "#         cost = cost_function(train_Y, predict)\n",
    "#\n",
    "#     gradient = tape.gradient(cost, [W,b])\n",
    "#\n",
    "#     optimizer.apply_gradients(zip(gradient,[W,b]))\n",
    "\n",
    "# 모델 정확도 측정\n",
    "def accuracy(y_true, y_pred):\n",
    "    predict = tf.round(y_pred)\n",
    "    correct = tf.cast(tf.equal(predict, y_true), dtype=tf.float32)\n",
    "    accuracy = tf.reduce_mean(correct)\n",
    "    return accuracy"
   ]
  },
  {
   "cell_type": "code",
   "execution_count": 11,
   "metadata": {},
   "outputs": [
    {
     "name": "stdout",
     "output_type": "stream",
     "text": [
      "epoch: 0 cost: 0.7927083 accuracy: 0.4875\n",
      "epoch: 100 cost: 0.77087575 accuracy: 0.4875\n",
      "epoch: 200 cost: 0.7535574 accuracy: 0.4875\n",
      "epoch: 300 cost: 0.7399428 accuracy: 0.4875\n",
      "epoch: 400 cost: 0.7293211 accuracy: 0.4875\n",
      "epoch: 500 cost: 0.7210806 accuracy: 0.4875\n",
      "epoch: 600 cost: 0.714717 accuracy: 0.4875\n",
      "epoch: 700 cost: 0.7098206 accuracy: 0.4875\n",
      "epoch: 800 cost: 0.7060637 accuracy: 0.4878125\n",
      "epoch: 900 cost: 0.7031836 accuracy: 0.4884375\n",
      "epoch: 1000 cost: 0.7009775 accuracy: 0.490625\n",
      "epoch: 1100 cost: 0.69928914 accuracy: 0.495\n",
      "epoch: 1200 cost: 0.6979967 accuracy: 0.4971875\n",
      "epoch: 1300 cost: 0.6970065 accuracy: 0.4984375\n",
      "epoch: 1400 cost: 0.6962473 accuracy: 0.4996875\n",
      "epoch: 1500 cost: 0.69566065 accuracy: 0.5003125\n",
      "epoch: 1600 cost: 0.6952083 accuracy: 0.5003125\n",
      "epoch: 1700 cost: 0.69485915 accuracy: 0.5003125\n",
      "epoch: 1800 cost: 0.6945874 accuracy: 0.5003125\n",
      "epoch: 1900 cost: 0.6943749 accuracy: 0.5003125\n"
     ]
    },
    {
     "data": {
      "image/png": "[encoded data removed]",
      "text/plain": [
       "<Figure size 432x288 with 1 Axes>"
      ]
     },
     "metadata": {
      "needs_background": "light"
     },
     "output_type": "display_data"
    }
   ],
   "source": [
    "cost_log = []\n",
    "for epoch in range(num_epochs):\n",
    "\n",
    "    run_optimizer(train_X, train_Y)\n",
    "    cost_value = cost_function(train_Y, hypothesis(train_X))\n",
    "\n",
    "    if(epoch % 100 == 0):\n",
    "        print(\"epoch:\",epoch,\"cost:\",cost_value.numpy(),\"accuracy:\",accuracy(train_Y,hypothesis(train_X)).numpy())\n",
    "    cost_log.append(cost_value)\n",
    "\n",
    "plt.plot(np.arange(num_epochs),cost_log,label=\"cost_value\")\n",
    "plt.xlabel('epoch')\n",
    "plt.ylabel('cost_value')\n",
    "plt.show()"
   ]
  },
  {
   "cell_type": "code",
   "execution_count": null,
   "metadata": {},
   "outputs": [],
   "source": []
  }
 ],
 "metadata": {
  "kernelspec": {
   "display_name": "Python 3",
   "language": "python",
   "name": "python3"
  },
  "language_info": {
   "codemirror_mode": {
    "name": "ipython",
    "version": 3
   },
   "file_extension": ".py",
   "mimetype": "text/x-python",
   "name": "python",
   "nbconvert_exporter": "python",
   "pygments_lexer": "ipython3",
   "version": "3.7.6"
  }
 },
 "nbformat": 4,
 "nbformat_minor": 2
}
