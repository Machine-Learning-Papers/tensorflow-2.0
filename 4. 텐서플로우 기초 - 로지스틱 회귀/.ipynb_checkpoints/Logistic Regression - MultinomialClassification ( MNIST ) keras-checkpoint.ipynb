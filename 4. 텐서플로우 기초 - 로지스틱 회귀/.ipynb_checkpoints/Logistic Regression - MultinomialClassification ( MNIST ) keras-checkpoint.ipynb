{
 "cells": [
  {
   "cell_type": "markdown",
   "metadata": {},
   "source": [
    "# Logistic Regression - MultinomialClassification ( MNIST ) keras\n",
    "\n",
    "로지스틱회귀를 NN(뉴럴네트워크)로 구현하는 예제\n",
    "> 텐서플로우 2.0부터 공식적으로 지원하는 tf.keras High-Level API를 사용하였습니다."
   ]
  },
  {
   "cell_type": "code",
   "execution_count": 1,
   "metadata": {},
   "outputs": [],
   "source": [
    "from __future__ import absolute_import, division, print_function, unicode_literals\n",
    "import tensorflow as tf"
   ]
  },
  {
   "cell_type": "markdown",
   "metadata": {},
   "source": [
    "## 1. 데이터 불러오기 및 파라미터 설정"
   ]
  },
  {
   "cell_type": "code",
   "execution_count": 7,
   "metadata": {},
   "outputs": [
    {
     "name": "stdout",
     "output_type": "stream",
     "text": [
      "(60000, 28, 28)\n",
      "(60000,)\n",
      "(10000, 28, 28)\n",
      "(10000,)\n",
      "<class 'numpy.ndarray'>\n"
     ]
    }
   ],
   "source": [
    "# mnist 데이터 불러오기.\n",
    "( train_x, train_y ), (test_x, test_y ) = tf.keras.datasets.mnist.load_data()\n",
    "\n",
    "# 데이터 형식 출력\n",
    "print(train_x.shape)\n",
    "print(train_y.shape)\n",
    "print(test_x.shape)\n",
    "print(test_y.shape)\n",
    "print(type(train_x)) # 무슨 형식으로 되어있는지 알기 위함.\n",
    "\n",
    "# 하이퍼파라미터\n",
    "num_classes = 10 # 분류개수\n",
    "num_epochs = 30\n",
    "num_features = 784 # 이미지 가로x세로 => 1차원화 ( 28*28 = 784 )\n",
    "learning_rate = 0.01\n",
    "batch_size = 100\n",
    "\n",
    "# 데이터 1차원화\n",
    "train_X = tf.reshape(train_x, [-1,num_features])\n",
    "test_X = tf.reshape(test_x, [-1, num_features])\n",
    "\n",
    "# 정답 라벨 one-hot encoding\n",
    "train_Y = tf.one_hot(train_y, depth=10)\n",
    "test_Y = tf.one_hot(test_y, depth=10)\n",
    "\n"
   ]
  },
  {
   "cell_type": "markdown",
   "metadata": {},
   "source": [
    "## 2. 모델 생성 및 구성\n",
    "제일 기본이 되는 Sequential 모델을 구성한다.  \n",
    "해당 모델 ( Dense )에 관한 내용은 2장 폴더안 Keras노트북안에 정리해두었습니다."
   ]
  },
  {
   "cell_type": "code",
   "execution_count": 8,
   "metadata": {},
   "outputs": [
    {
     "name": "stdout",
     "output_type": "stream",
     "text": [
      "Model: \"sequential_1\"\n",
      "_________________________________________________________________\n",
      "Layer (type)                 Output Shape              Param #   \n",
      "=================================================================\n",
      "dense_1 (Dense)              (None, 10)                7850      \n",
      "_________________________________________________________________\n",
      "activation_1 (Activation)    (None, 10)                0         \n",
      "=================================================================\n",
      "Total params: 7,850\n",
      "Trainable params: 7,850\n",
      "Non-trainable params: 0\n",
      "_________________________________________________________________\n"
     ]
    }
   ],
   "source": [
    "# Sequential 모델 생성\n",
    "model = tf.keras.Sequential()\n",
    "\n",
    "# 모델 층 쌓기 ( 여기서는 한개의 층만을 쌓았다. )\n",
    "model.add(tf.keras.layers.Dense(input_dim=num_features, units=num_classes, use_bias=True))\n",
    "model.add(tf.keras.layers.Activation('softmax'))\n",
    "\n",
    "#훈련 준비\n",
    "model.compile(optimizer=tf.keras.optimizers.SGD(learning_rate=learning_rate), loss='categorical_crossentropy', metrics=['accuracy'])\n",
    "model.summary()"
   ]
  },
  {
   "cell_type": "markdown",
   "metadata": {},
   "source": [
    "## 3. 훈련 및 평가\n"
   ]
  },
  {
   "cell_type": "code",
   "execution_count": 9,
   "metadata": {},
   "outputs": [
    {
     "name": "stdout",
     "output_type": "stream",
     "text": [
      "Train on 60000 samples\n",
      "Epoch 1/30\n",
      "60000/60000 [==============================] - 2s 33us/sample - loss: 223.6312 - accuracy: 0.8352\n",
      "Epoch 2/30\n",
      "60000/60000 [==============================] - 2s 30us/sample - loss: 143.7724 - accuracy: 0.8663\n",
      "Epoch 3/30\n",
      "60000/60000 [==============================] - 2s 30us/sample - loss: 138.7859 - accuracy: 0.8696\n",
      "Epoch 4/30\n",
      "60000/60000 [==============================] - 2s 29us/sample - loss: 134.9489 - accuracy: 0.8754\n",
      "Epoch 5/30\n",
      "60000/60000 [==============================] - 2s 30us/sample - loss: 137.9524 - accuracy: 0.8734\n",
      "Epoch 6/30\n",
      "60000/60000 [==============================] - 2s 27us/sample - loss: 124.5443 - accuracy: 0.8782\n",
      "Epoch 7/30\n",
      "60000/60000 [==============================] - 2s 29us/sample - loss: 132.7386 - accuracy: 0.8767\n",
      "Epoch 8/30\n",
      "60000/60000 [==============================] - 2s 30us/sample - loss: 124.7982 - accuracy: 0.8795\n",
      "Epoch 9/30\n",
      "60000/60000 [==============================] - 2s 27us/sample - loss: 123.7942 - accuracy: 0.8794\n",
      "Epoch 10/30\n",
      "60000/60000 [==============================] - 2s 27us/sample - loss: 122.9050 - accuracy: 0.8810\n",
      "Epoch 11/30\n",
      "60000/60000 [==============================] - 2s 27us/sample - loss: 120.9968 - accuracy: 0.8814\n",
      "Epoch 12/30\n",
      "60000/60000 [==============================] - 2s 28us/sample - loss: 120.6502 - accuracy: 0.8830\n",
      "Epoch 13/30\n",
      "60000/60000 [==============================] - 2s 27us/sample - loss: 119.4265 - accuracy: 0.8827\n",
      "Epoch 14/30\n",
      "60000/60000 [==============================] - 2s 27us/sample - loss: 118.9238 - accuracy: 0.8845\n",
      "Epoch 15/30\n",
      "60000/60000 [==============================] - 2s 27us/sample - loss: 122.5700 - accuracy: 0.8832\n",
      "Epoch 16/30\n",
      "60000/60000 [==============================] - 2s 28us/sample - loss: 114.5709 - accuracy: 0.8849\n",
      "Epoch 17/30\n",
      "60000/60000 [==============================] - 2s 28us/sample - loss: 118.4528 - accuracy: 0.8837\n",
      "Epoch 18/30\n",
      "60000/60000 [==============================] - 2s 28us/sample - loss: 116.0659 - accuracy: 0.8842\n",
      "Epoch 19/30\n",
      "60000/60000 [==============================] - 2s 27us/sample - loss: 122.9110 - accuracy: 0.8825\n",
      "Epoch 20/30\n",
      "60000/60000 [==============================] - 2s 27us/sample - loss: 117.0130 - accuracy: 0.8847\n",
      "Epoch 21/30\n",
      "60000/60000 [==============================] - 2s 27us/sample - loss: 121.1194 - accuracy: 0.8837\n",
      "Epoch 22/30\n",
      "60000/60000 [==============================] - 2s 27us/sample - loss: 113.2256 - accuracy: 0.8870\n",
      "Epoch 23/30\n",
      "60000/60000 [==============================] - 2s 27us/sample - loss: 111.8866 - accuracy: 0.8885\n",
      "Epoch 24/30\n",
      "60000/60000 [==============================] - 2s 27us/sample - loss: 119.4855 - accuracy: 0.8827\n",
      "Epoch 25/30\n",
      "60000/60000 [==============================] - 2s 27us/sample - loss: 115.0700 - accuracy: 0.8871\n",
      "Epoch 26/30\n",
      "60000/60000 [==============================] - 2s 27us/sample - loss: 115.0435 - accuracy: 0.8863\n",
      "Epoch 27/30\n",
      "60000/60000 [==============================] - 2s 28us/sample - loss: 114.7496 - accuracy: 0.8887\n",
      "Epoch 28/30\n",
      "60000/60000 [==============================] - 2s 27us/sample - loss: 118.2283 - accuracy: 0.8859\n",
      "Epoch 29/30\n",
      "60000/60000 [==============================] - 2s 28us/sample - loss: 112.5873 - accuracy: 0.8884\n",
      "Epoch 30/30\n",
      "60000/60000 [==============================] - 2s 27us/sample - loss: 113.8373 - accuracy: 0.8878\n"
     ]
    },
    {
     "data": {
      "text/plain": [
       "<tensorflow.python.keras.callbacks.History at 0x64efc2390>"
      ]
     },
     "execution_count": 9,
     "metadata": {},
     "output_type": "execute_result"
    }
   ],
   "source": [
    "# 훈련 시작\n",
    "model.fit(train_X, train_Y, batch_size=batch_size,epochs=num_epochs)"
   ]
  },
  {
   "cell_type": "code",
   "execution_count": 11,
   "metadata": {},
   "outputs": [
    {
     "name": "stdout",
     "output_type": "stream",
     "text": [
      "loss: 109.33387058258057 accuracy: 0.8931\n"
     ]
    }
   ],
   "source": [
    "# 모델 평가\n",
    "loss, accuracy = model.evaluate(test_X,test_Y,batch_size=batch_size,verbose=0)\n",
    "print(\"loss:\",loss,\"accuracy:\",accuracy)"
   ]
  },
  {
   "cell_type": "code",
   "execution_count": null,
   "metadata": {},
   "outputs": [],
   "source": []
  }
 ],
 "metadata": {
  "kernelspec": {
   "display_name": "Python 3",
   "language": "python",
   "name": "python3"
  },
  "language_info": {
   "codemirror_mode": {
    "name": "ipython",
    "version": 3
   },
   "file_extension": ".py",
   "mimetype": "text/x-python",
   "name": "python",
   "nbconvert_exporter": "python",
   "pygments_lexer": "ipython3",
   "version": "3.7.6"
  }
 },
 "nbformat": 4,
 "nbformat_minor": 2
}
