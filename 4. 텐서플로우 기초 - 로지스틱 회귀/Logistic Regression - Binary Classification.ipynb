{
 "cells": [
  {
   "cell_type": "markdown",
   "metadata": {},
   "source": [
    "# Logistic Regression - Binary Classification\n",
    "> 참고\n",
    "1. https://www.youtube.com/watch?v=2FeWGgnyLSw&list=PLlMkM4tgfjnLSOjrEJN31gZATbcj_MpUm&index=13\n",
    "2. https://stackabuse.com/tensorflow-2-0-solving-classification-and-regression-problems/\n",
    "3. https://bioinformaticsandme.tistory.com/156\n",
    "4. https://github.com/deeplearningzerotoall/TensorFlow/blob/master/tf_2.x/lab-05-1-logistic_regression-eager.ipynb\n",
    "\n",
    "본 노트북은 텐서플로우2.0을 사용하여 로지스틱 회귀를 구현하는데 목적이 있습니다."
   ]
  },
  {
   "cell_type": "code",
   "execution_count": 1,
   "metadata": {},
   "outputs": [],
   "source": [
    "from __future__ import absolute_import, division, print_function, unicode_literals\n",
    "import tensorflow as tf\n",
    "import numpy as np\n",
    "import pandas as pd\n",
    "from sklearn.model_selection import train_test_split\n",
    "import matplotlib.pyplot as plt"
   ]
  },
  {
   "cell_type": "markdown",
   "metadata": {},
   "source": [
    "## 1. 데이터 불러오기 및 전처리\n",
    "* 데이터 불러오기\n",
    "* 전처리\n",
    "    * X,Y 나누기\n",
    "    * 훈련용, 검증용 데이터 나누기"
   ]
  },
  {
   "cell_type": "code",
   "execution_count": 2,
   "metadata": {},
   "outputs": [],
   "source": [
    "# 데이터 불러오기\n",
    "data = np.loadtxt(\"diabetes.csv\", delimiter=',', dtype=np.float32)\n",
    "\n",
    "# 훈련용, 검증용 데이터 나누기\n",
    "train_data, test_data = train_test_split(data, test_size=0.2)\n",
    "\n",
    "# 훈련용 데이터\n",
    "train_X = train_data[:,0:-1]\n",
    "train_Y = train_data[:,[-1]]\n",
    "\n",
    "# 검증용 데이터\n",
    "test_X = test_data[:,0:-1]\n",
    "test_Y = test_data[:,[-1]]\n",
    "\n",
    "# 텐서플로우 상수로 변환.\n",
    "train_X = tf.constant(train_X, dtype=tf.float32)\n",
    "train_Y = tf.constant(train_Y, dtype=tf.float32)\n",
    "test_X = tf.constant(test_X, dtype=tf.float32)\n",
    "test_Y = tf.constant(test_Y, dtype=tf.float32)\n"
   ]
  },
  {
   "cell_type": "markdown",
   "metadata": {},
   "source": [
    "## 2. 파라미터 설정\n",
    "* 파라미터\n",
    "* 하이퍼파라미터  \n",
    "파라미터 랜덤 값 뽑는 메소드 : tf.random.normal"
   ]
  },
  {
   "cell_type": "code",
   "execution_count": 3,
   "metadata": {},
   "outputs": [],
   "source": [
    "# 파라미터\n",
    "W = tf.Variable(tf.ones([8,1]), dtype=tf.float32) # 데이터의 Feature이 8개이며, 뉴럴네트워크로 치면 1개층이므로 [8,1]\n",
    "b = tf.Variable(tf.zeros([1],dtype=tf.float32))\n",
    "\n",
    "# 하이퍼파라미터\n",
    "learning_rate = 0.01\n",
    "num_epochs = 10000"
   ]
  },
  {
   "cell_type": "markdown",
   "metadata": {},
   "source": [
    "## 3. 함수 정의\n",
    "* 가설함수\n",
    "* 비용함수\n",
    "* 경사하강법\n",
    "* 정확도 측정"
   ]
  },
  {
   "cell_type": "code",
   "execution_count": 4,
   "metadata": {},
   "outputs": [],
   "source": [
    "def hypothesis(x):\n",
    "    return tf.sigmoid(tf.matmul(x,W)+b)\n",
    "# return tf.div(1., 1. + tf.exp(z))\n",
    "\n",
    "def cost_function(y_true, y_pred):\n",
    "    return -tf.reduce_mean(y_true * tf.math.log(y_pred) + ( 1 - y_true) * tf.math.log( 1 - y_pred ))\n",
    "\n",
    "def run_optimizer(x,y):\n",
    "    with tf.GradientTape() as tape:\n",
    "        predict = hypothesis(x)\n",
    "        cost = cost_function(y, predict)\n",
    "\n",
    "    dJ_dW, dJ_db = tape.gradient(cost,[W,b])\n",
    "    W.assign_sub(learning_rate*dJ_dW)\n",
    "    b.assign_sub(learning_rate*dJ_db)\n",
    "\n",
    "# 또 다른 경사하강법 코드. ( 참고 )\n",
    "# def gradient_descent(hypothesis, labels):\n",
    "#     with tf.GradientTape() as tape:\n",
    "#         loss_value = loss_fn(hypothesis, labels)\n",
    "#     return tape.gradient(loss_value,[W,b])\n",
    "# optimizer = tf.train.GradientDescentOptimizer(learning_rate=0.01)\n",
    "# optimizer.apply_gradients(grads_and_vars=zip(grads,[W,b]))\n",
    "    \n",
    "# 모델 정확도 측정\n",
    "def accuracy(y_true, y_pred):\n",
    "    predict = tf.round(y_pred)\n",
    "    correct = tf.cast(tf.equal(predict, y_true), dtype=tf.float32)\n",
    "    accuracy = tf.reduce_mean(correct)\n",
    "    return accuracy"
   ]
  },
  {
   "cell_type": "markdown",
   "metadata": {},
   "source": [
    "## 4. 훈련 및 정확도 측정"
   ]
  },
  {
   "cell_type": "code",
   "execution_count": 6,
   "metadata": {},
   "outputs": [
    {
     "name": "stdout",
     "output_type": "stream",
     "text": [
      "epoch: 0 cost: 0.85814065 train_data_accuracy: 0.42174628 test_data_accuracy: 0.34868422\n",
      "epoch: 100 cost: 0.8188835 train_data_accuracy: 0.48434925 test_data_accuracy: 0.41447368\n",
      "epoch: 200 cost: 0.7931925 train_data_accuracy: 0.5436573 test_data_accuracy: 0.5131579\n",
      "epoch: 300 cost: 0.77321506 train_data_accuracy: 0.5749588 test_data_accuracy: 0.56578946\n",
      "epoch: 400 cost: 0.7559835 train_data_accuracy: 0.61285007 test_data_accuracy: 0.59210527\n",
      "epoch: 500 cost: 0.7403588 train_data_accuracy: 0.6276771 test_data_accuracy: 0.625\n",
      "epoch: 600 cost: 0.7258868 train_data_accuracy: 0.6408567 test_data_accuracy: 0.6381579\n",
      "epoch: 700 cost: 0.7123705 train_data_accuracy: 0.6490939 test_data_accuracy: 0.6447368\n",
      "epoch: 800 cost: 0.6997102 train_data_accuracy: 0.6523888 test_data_accuracy: 0.6513158\n",
      "epoch: 900 cost: 0.68784225 train_data_accuracy: 0.6540362 test_data_accuracy: 0.6513158\n",
      "epoch: 1000 cost: 0.67671746 train_data_accuracy: 0.6540362 test_data_accuracy: 0.6513158\n",
      "epoch: 1100 cost: 0.66629106 train_data_accuracy: 0.6540362 test_data_accuracy: 0.6513158\n",
      "epoch: 1200 cost: 0.65652174 train_data_accuracy: 0.6540362 test_data_accuracy: 0.6513158\n",
      "epoch: 1300 cost: 0.64736927 train_data_accuracy: 0.6540362 test_data_accuracy: 0.6513158\n",
      "epoch: 1400 cost: 0.6387947 train_data_accuracy: 0.6540362 test_data_accuracy: 0.6513158\n",
      "epoch: 1500 cost: 0.6307612 train_data_accuracy: 0.6540362 test_data_accuracy: 0.6513158\n",
      "epoch: 1600 cost: 0.62323296 train_data_accuracy: 0.6540362 test_data_accuracy: 0.65789473\n",
      "epoch: 1700 cost: 0.6161765 train_data_accuracy: 0.6540362 test_data_accuracy: 0.65789473\n",
      "epoch: 1800 cost: 0.60955954 train_data_accuracy: 0.6540362 test_data_accuracy: 0.65789473\n",
      "epoch: 1900 cost: 0.60335237 train_data_accuracy: 0.6573311 test_data_accuracy: 0.65789473\n",
      "epoch: 2000 cost: 0.59752643 train_data_accuracy: 0.6589786 test_data_accuracy: 0.6644737\n",
      "epoch: 2100 cost: 0.59205526 train_data_accuracy: 0.66392094 test_data_accuracy: 0.6644737\n",
      "epoch: 2200 cost: 0.58691424 train_data_accuracy: 0.66556835 test_data_accuracy: 0.6644737\n",
      "epoch: 2300 cost: 0.5820804 train_data_accuracy: 0.6705107 test_data_accuracy: 0.6644737\n",
      "epoch: 2400 cost: 0.5775319 train_data_accuracy: 0.68039536 test_data_accuracy: 0.67763156\n",
      "epoch: 2500 cost: 0.57324934 train_data_accuracy: 0.6869852 test_data_accuracy: 0.67763156\n",
      "epoch: 2600 cost: 0.569214 train_data_accuracy: 0.6952224 test_data_accuracy: 0.67763156\n",
      "epoch: 2700 cost: 0.56540865 train_data_accuracy: 0.7018122 test_data_accuracy: 0.69078946\n",
      "epoch: 2800 cost: 0.56181777 train_data_accuracy: 0.71004945 test_data_accuracy: 0.70394737\n",
      "epoch: 2900 cost: 0.55842626 train_data_accuracy: 0.71169686 test_data_accuracy: 0.7105263\n",
      "epoch: 3000 cost: 0.5552209 train_data_accuracy: 0.708402 test_data_accuracy: 0.7105263\n",
      "epoch: 3100 cost: 0.5521892 train_data_accuracy: 0.71169686 test_data_accuracy: 0.71710527\n",
      "epoch: 3200 cost: 0.5493194 train_data_accuracy: 0.71004945 test_data_accuracy: 0.7236842\n",
      "epoch: 3300 cost: 0.54660064 train_data_accuracy: 0.7199341 test_data_accuracy: 0.7236842\n",
      "epoch: 3400 cost: 0.5440231 train_data_accuracy: 0.723229 test_data_accuracy: 0.7302632\n",
      "epoch: 3500 cost: 0.5415778 train_data_accuracy: 0.72981876 test_data_accuracy: 0.7368421\n",
      "epoch: 3600 cost: 0.53925616 train_data_accuracy: 0.73311365 test_data_accuracy: 0.7368421\n",
      "epoch: 3700 cost: 0.53705007 train_data_accuracy: 0.7347611 test_data_accuracy: 0.7434211\n",
      "epoch: 3800 cost: 0.53495246 train_data_accuracy: 0.7364086 test_data_accuracy: 0.7434211\n",
      "epoch: 3900 cost: 0.5329567 train_data_accuracy: 0.738056 test_data_accuracy: 0.7368421\n",
      "epoch: 4000 cost: 0.5310564 train_data_accuracy: 0.7413509 test_data_accuracy: 0.7302632\n",
      "epoch: 4100 cost: 0.5292457 train_data_accuracy: 0.7413509 test_data_accuracy: 0.7368421\n",
      "epoch: 4200 cost: 0.52751935 train_data_accuracy: 0.7446458 test_data_accuracy: 0.7434211\n",
      "epoch: 4300 cost: 0.5258723 train_data_accuracy: 0.74629325 test_data_accuracy: 0.7434211\n",
      "epoch: 4400 cost: 0.52429986 train_data_accuracy: 0.7479407 test_data_accuracy: 0.7434211\n",
      "epoch: 4500 cost: 0.52279776 train_data_accuracy: 0.752883 test_data_accuracy: 0.75\n",
      "epoch: 4600 cost: 0.52136207 train_data_accuracy: 0.7578254 test_data_accuracy: 0.7565789\n",
      "epoch: 4700 cost: 0.51998883 train_data_accuracy: 0.7561779 test_data_accuracy: 0.7697368\n",
      "epoch: 4800 cost: 0.51867473 train_data_accuracy: 0.7561779 test_data_accuracy: 0.7697368\n",
      "epoch: 4900 cost: 0.51741636 train_data_accuracy: 0.7561779 test_data_accuracy: 0.7697368\n",
      "epoch: 5000 cost: 0.5162111 train_data_accuracy: 0.7545305 test_data_accuracy: 0.7631579\n",
      "epoch: 5100 cost: 0.51505566 train_data_accuracy: 0.7545305 test_data_accuracy: 0.7631579\n",
      "epoch: 5200 cost: 0.51394755 train_data_accuracy: 0.7561779 test_data_accuracy: 0.7631579\n",
      "epoch: 5300 cost: 0.51288426 train_data_accuracy: 0.7578254 test_data_accuracy: 0.7697368\n",
      "epoch: 5400 cost: 0.5118636 train_data_accuracy: 0.7594728 test_data_accuracy: 0.7631579\n",
      "epoch: 5500 cost: 0.51088333 train_data_accuracy: 0.76112026 test_data_accuracy: 0.7631579\n",
      "epoch: 5600 cost: 0.50994116 train_data_accuracy: 0.76112026 test_data_accuracy: 0.7697368\n",
      "epoch: 5700 cost: 0.5090356 train_data_accuracy: 0.76112026 test_data_accuracy: 0.78289473\n",
      "epoch: 5800 cost: 0.50816476 train_data_accuracy: 0.76441514 test_data_accuracy: 0.78289473\n",
      "epoch: 5900 cost: 0.50732666 train_data_accuracy: 0.76276773 test_data_accuracy: 0.78289473\n",
      "epoch: 6000 cost: 0.50652015 train_data_accuracy: 0.76276773 test_data_accuracy: 0.7894737\n",
      "epoch: 6100 cost: 0.50574344 train_data_accuracy: 0.76276773 test_data_accuracy: 0.7894737\n",
      "epoch: 6200 cost: 0.5049951 train_data_accuracy: 0.76276773 test_data_accuracy: 0.7894737\n",
      "epoch: 6300 cost: 0.5042739 train_data_accuracy: 0.76112026 test_data_accuracy: 0.7894737\n",
      "epoch: 6400 cost: 0.50357866 train_data_accuracy: 0.76112026 test_data_accuracy: 0.7894737\n",
      "epoch: 6500 cost: 0.50290823 train_data_accuracy: 0.76276773 test_data_accuracy: 0.7894737\n",
      "epoch: 6600 cost: 0.5022614 train_data_accuracy: 0.76112026 test_data_accuracy: 0.7894737\n",
      "epoch: 6700 cost: 0.50163716 train_data_accuracy: 0.76112026 test_data_accuracy: 0.7894737\n",
      "epoch: 6800 cost: 0.50103456 train_data_accuracy: 0.7594728 test_data_accuracy: 0.7894737\n",
      "epoch: 6900 cost: 0.5004525 train_data_accuracy: 0.76112026 test_data_accuracy: 0.7894737\n",
      "epoch: 7000 cost: 0.49989024 train_data_accuracy: 0.76112026 test_data_accuracy: 0.7894737\n",
      "epoch: 7100 cost: 0.49934697 train_data_accuracy: 0.7594728 test_data_accuracy: 0.7894737\n",
      "epoch: 7200 cost: 0.49882168 train_data_accuracy: 0.7594728 test_data_accuracy: 0.7894737\n",
      "epoch: 7300 cost: 0.49831384 train_data_accuracy: 0.7594728 test_data_accuracy: 0.7894737\n",
      "epoch: 7400 cost: 0.4978228 train_data_accuracy: 0.7594728 test_data_accuracy: 0.7894737\n",
      "epoch: 7500 cost: 0.4973476 train_data_accuracy: 0.7594728 test_data_accuracy: 0.7894737\n",
      "epoch: 7600 cost: 0.49688777 train_data_accuracy: 0.76441514 test_data_accuracy: 0.7894737\n",
      "epoch: 7700 cost: 0.49644253 train_data_accuracy: 0.76112026 test_data_accuracy: 0.79605263\n",
      "epoch: 7800 cost: 0.49601164 train_data_accuracy: 0.76112026 test_data_accuracy: 0.79605263\n",
      "epoch: 7900 cost: 0.4955941 train_data_accuracy: 0.76112026 test_data_accuracy: 0.79605263\n",
      "epoch: 8000 cost: 0.49519 train_data_accuracy: 0.76112026 test_data_accuracy: 0.79605263\n",
      "epoch: 8100 cost: 0.49479803 train_data_accuracy: 0.76112026 test_data_accuracy: 0.79605263\n",
      "epoch: 8200 cost: 0.4944183 train_data_accuracy: 0.76112026 test_data_accuracy: 0.79605263\n",
      "epoch: 8300 cost: 0.49405032 train_data_accuracy: 0.76112026 test_data_accuracy: 0.7894737\n",
      "epoch: 8400 cost: 0.49369332 train_data_accuracy: 0.76112026 test_data_accuracy: 0.7894737\n",
      "epoch: 8500 cost: 0.49334717 train_data_accuracy: 0.76112026 test_data_accuracy: 0.79605263\n",
      "epoch: 8600 cost: 0.49301142 train_data_accuracy: 0.76276773 test_data_accuracy: 0.80263156\n",
      "epoch: 8700 cost: 0.4926856 train_data_accuracy: 0.76276773 test_data_accuracy: 0.80263156\n",
      "epoch: 8800 cost: 0.49236944 train_data_accuracy: 0.76276773 test_data_accuracy: 0.79605263\n",
      "epoch: 8900 cost: 0.4920625 train_data_accuracy: 0.76276773 test_data_accuracy: 0.79605263\n",
      "epoch: 9000 cost: 0.49176463 train_data_accuracy: 0.76276773 test_data_accuracy: 0.79605263\n"
     ]
    },
    {
     "name": "stdout",
     "output_type": "stream",
     "text": [
      "epoch: 9100 cost: 0.49147522 train_data_accuracy: 0.76441514 test_data_accuracy: 0.79605263\n",
      "epoch: 9200 cost: 0.4911943 train_data_accuracy: 0.76276773 test_data_accuracy: 0.79605263\n",
      "epoch: 9300 cost: 0.4909214 train_data_accuracy: 0.76276773 test_data_accuracy: 0.79605263\n",
      "epoch: 9400 cost: 0.49065623 train_data_accuracy: 0.76276773 test_data_accuracy: 0.79605263\n",
      "epoch: 9500 cost: 0.49039847 train_data_accuracy: 0.76276773 test_data_accuracy: 0.79605263\n",
      "epoch: 9600 cost: 0.490148 train_data_accuracy: 0.76441514 test_data_accuracy: 0.79605263\n",
      "epoch: 9700 cost: 0.4899046 train_data_accuracy: 0.76441514 test_data_accuracy: 0.79605263\n",
      "epoch: 9800 cost: 0.48966786 train_data_accuracy: 0.76441514 test_data_accuracy: 0.79605263\n",
      "epoch: 9900 cost: 0.48943785 train_data_accuracy: 0.7660626 test_data_accuracy: 0.79605263\n"
     ]
    }
   ],
   "source": [
    "cost_log = []\n",
    "accuracy_log = []\n",
    "for epoch in range(num_epochs):\n",
    "\n",
    "    run_optimizer(train_X, train_Y)\n",
    "\n",
    "    if(epoch % 100 == 0):\n",
    "        cost_log.append(cost_function(train_Y, hypothesis(train_X)).numpy())\n",
    "        accuracy_log.append(accuracy(train_Y,hypothesis(train_X)).numpy())\n",
    "        print(\"epoch:\",epoch,\"cost:\",cost_function(train_Y, hypothesis(train_X)).numpy(),\"train_data_accuracy:\",accuracy(train_Y,hypothesis(train_X)).numpy(),\"test_data_accuracy:\",accuracy(test_Y,hypothesis(test_X)).numpy())"
   ]
  },
  {
   "cell_type": "code",
   "execution_count": 8,
   "metadata": {},
   "outputs": [
    {
     "data": {
      "image/png": "[encoded data removed]",
      "text/plain": [
       "<Figure size 432x288 with 1 Axes>"
      ]
     },
     "metadata": {
      "needs_background": "light"
     },
     "output_type": "display_data"
    }
   ],
   "source": [
    "# 비용함수 시각화\n",
    "plt.plot(np.arange(0,10000,100),cost_log,label=\"cost_value\")\n",
    "plt.xlabel(\"epoch\")\n",
    "plt.ylabel(\"cost_value\")\n",
    "plt.show()"
   ]
  },
  {
   "cell_type": "code",
   "execution_count": 9,
   "metadata": {},
   "outputs": [
    {
     "data": {
      "image/png": "[encoded data removed]",
      "text/plain": [
       "<Figure size 432x288 with 1 Axes>"
      ]
     },
     "metadata": {
      "needs_background": "light"
     },
     "output_type": "display_data"
    }
   ],
   "source": [
    "# 정확도 시각화\n",
    "plt.plot(np.arange(0,10000,100),accuracy_log,label=\"accuracy\")\n",
    "plt.xlabel(\"epoch\")\n",
    "plt.ylabel(\"cost_value\")\n",
    "plt.show()"
   ]
  }
 ],
 "metadata": {
  "kernelspec": {
   "display_name": "Python 3",
   "language": "python",
   "name": "python3"
  },
  "language_info": {
   "codemirror_mode": {
    "name": "ipython",
    "version": 3
   },
   "file_extension": ".py",
   "mimetype": "text/x-python",
   "name": "python",
   "nbconvert_exporter": "python",
   "pygments_lexer": "ipython3",
   "version": "3.7.6"
  }
 },
 "nbformat": 4,
 "nbformat_minor": 2
}
