{
 "cells": [
  {
   "cell_type": "markdown",
   "metadata": {},
   "source": [
    "# MNIST NN ( NN )\n",
    "이전 Softmax의 NN은 입력층과 출력층만으로 네트워크를 구성하였습니다.  \n",
    "이번엔 은닉층을 추가하여 3개층의 네트워크를 구성하여 MNIST데이터를 훈련하고자 합니다."
   ]
  },
  {
   "cell_type": "code",
   "execution_count": 1,
   "metadata": {},
   "outputs": [],
   "source": [
    "from __future__ import absolute_import, division, print_function, unicode_literals\n",
    "import tensorflow as tf"
   ]
  },
  {
   "cell_type": "markdown",
   "metadata": {},
   "source": [
    "## 1. 데이터 로드 & 간단한 전처리\n",
    "### 1-1. shape\n",
    "원래 텐서플로우에서 이미지는 아래와 같이 처리한다.\n",
    "```python\n",
    "[N, 28, 28, 1] \n",
    "# [batch_size, height, width, channel]\n",
    "# 채널의 의미를 이미지의 RGB채널입니다.\n",
    "```\n",
    "이 노트북에서는 height, width를 합쳐서 벡터로 만들어 훈련을 시킵니다.  \n",
    "그리고 MNIST데이터는 흑백이므로 channel이 1입니다.\n",
    "\n",
    "---\n",
    "### 1-2. normalize  \n",
    "이미지는 한 픽셀당 0에서 255의 숫자값을 가집니다. ( RGB )  \n",
    "즉, 각 Feature이 이미지의 픽셀 값이므로 0~255의 값을 가지는데 이럴경우 normalization(정규화)를 통해 값들은 0과 1사이의 값을 통하면 Gradient를 더 빠르게 찾을 수 있게 됩니다.  \n",
    "정규화에 대한 내용은 앤드류 응 교수님의 수업을 참고하면 이해가 쉽습니다.  \n",
    "( 이 노트북의 코드에서는 정규화를 하지 않았습니다. )"
   ]
  },
  {
   "cell_type": "code",
   "execution_count": 2,
   "metadata": {},
   "outputs": [],
   "source": [
    "def load_data():\n",
    "    (train_x, train_y), (test_x, test_y) = tf.keras.datasets.mnist.load_data() # numpy타입\n",
    "\n",
    "    # 훈련 데이터\n",
    "    train_X = tf.constant(train_x, dtype=tf.float32)\n",
    "    train_X = tf.reshape(train_X, shape=[-1, 28*28]) # 이미지 해상도가 28*28 -> flatten -> 784 \n",
    "    train_Y = tf.one_hot(train_y, depth=10)\n",
    "\n",
    "    # 검증 데이터\n",
    "    test_X = tf.constant(test_x, dtype=tf.float32)\n",
    "    test_X = tf.reshape(test_X, shape=[-1, 28*28])\n",
    "    test_Y = tf.one_hot(test_y, depth=10)\n",
    "\n",
    "    return train_X, train_Y, test_X, test_Y\n",
    "\n",
    "train_X , train_Y, test_X, test_Y = load_data()"
   ]
  },
  {
   "cell_type": "markdown",
   "metadata": {},
   "source": [
    "## 2. 파라미터 "
   ]
  },
  {
   "cell_type": "code",
   "execution_count": 3,
   "metadata": {},
   "outputs": [],
   "source": [
    "# 하이퍼 파라미터 설정\n",
    "learning_rate = 0.001\n",
    "batch_size = 128\n",
    "num_epochs = 15\n",
    "num_classes = 10\n",
    "num_features = 28*28"
   ]
  },
  {
   "cell_type": "markdown",
   "metadata": {},
   "source": [
    "## 3. 모델 생성 및 구성\n",
    "> relu 참고자료\n",
    "1. https://www.edwith.org/boostcourse-dl-tensorflow/lecture/43735/\n",
    "2. https://doorbw.tistory.com/144\n",
    "\n",
    "\n",
    "* Input Layer 784 -> Hidden Layer 256 ( activation : relu )\n",
    "* Hidden Layer 256 -> Hidden Layer 256 ( activation : relu )\n",
    "* Output Layer 256 -> 10 ( activation : softmax )"
   ]
  },
  {
   "cell_type": "code",
   "execution_count": 4,
   "metadata": {},
   "outputs": [
    {
     "name": "stdout",
     "output_type": "stream",
     "text": [
      "Model: \"sequential\"\n",
      "_________________________________________________________________\n",
      "Layer (type)                 Output Shape              Param #   \n",
      "=================================================================\n",
      "dense (Dense)                (None, 256)               200960    \n",
      "_________________________________________________________________\n",
      "dense_1 (Dense)              (None, 256)               65792     \n",
      "_________________________________________________________________\n",
      "dense_2 (Dense)              (None, 10)                2570      \n",
      "=================================================================\n",
      "Total params: 269,322\n",
      "Trainable params: 269,322\n",
      "Non-trainable params: 0\n",
      "_________________________________________________________________\n"
     ]
    }
   ],
   "source": [
    "# 네트워크 생성 및 구성\n",
    "model = tf.keras.Sequential()\n",
    "model.add(tf.keras.layers.Dense(input_dim=num_features, units=256, activation='relu'))\n",
    "model.add(tf.keras.layers.Dense(input_dim=256, units=256, activation='relu'))\n",
    "model.add(tf.keras.layers.Dense(input_dim=256, units=num_classes, activation='softmax'))\n",
    "\n",
    "model.summary()"
   ]
  },
  {
   "cell_type": "markdown",
   "metadata": {},
   "source": [
    "## 4. 훈련 준비 & 훈련\n",
    "* 비용 함수 : categorical_crossentropy\n",
    "* optimizer : Adam\n",
    "> optimizer 참고\n",
    ">1. https://light-tree.tistory.com/141\n",
    ">2. https://gomguard.tistory.com/187"
   ]
  },
  {
   "cell_type": "code",
   "execution_count": 5,
   "metadata": {},
   "outputs": [
    {
     "name": "stdout",
     "output_type": "stream",
     "text": [
      "Model: \"sequential\"\n",
      "_________________________________________________________________\n",
      "Layer (type)                 Output Shape              Param #   \n",
      "=================================================================\n",
      "dense (Dense)                (None, 256)               200960    \n",
      "_________________________________________________________________\n",
      "dense_1 (Dense)              (None, 256)               65792     \n",
      "_________________________________________________________________\n",
      "dense_2 (Dense)              (None, 10)                2570      \n",
      "=================================================================\n",
      "Total params: 269,322\n",
      "Trainable params: 269,322\n",
      "Non-trainable params: 0\n",
      "_________________________________________________________________\n",
      "Train on 60000 samples\n",
      "Epoch 1/15\n",
      "60000/60000 [==============================] - 2s 39us/sample - loss: 2.3568 - accuracy: 0.8906\n",
      "Epoch 2/15\n",
      "60000/60000 [==============================] - 1s 25us/sample - loss: 0.3882 - accuracy: 0.9461\n",
      "Epoch 3/15\n",
      "60000/60000 [==============================] - 1s 23us/sample - loss: 0.2411 - accuracy: 0.9599\n",
      "Epoch 4/15\n",
      "60000/60000 [==============================] - 1s 24us/sample - loss: 0.1772 - accuracy: 0.9671\n",
      "Epoch 5/15\n",
      "60000/60000 [==============================] - 1s 24us/sample - loss: 0.1440 - accuracy: 0.9722\n",
      "Epoch 6/15\n",
      "60000/60000 [==============================] - 1s 24us/sample - loss: 0.1339 - accuracy: 0.9733\n",
      "Epoch 7/15\n",
      "60000/60000 [==============================] - 2s 27us/sample - loss: 0.1269 - accuracy: 0.9741s - loss: 0.1246 - accu\n",
      "Epoch 8/15\n",
      "60000/60000 [==============================] - 1s 24us/sample - loss: 0.0963 - accuracy: 0.9784\n",
      "Epoch 9/15\n",
      "60000/60000 [==============================] - 1s 24us/sample - loss: 0.0843 - accuracy: 0.9806\n",
      "Epoch 10/15\n",
      "60000/60000 [==============================] - 1s 23us/sample - loss: 0.0787 - accuracy: 0.9814\n",
      "Epoch 11/15\n",
      "60000/60000 [==============================] - 1s 22us/sample - loss: 0.0767 - accuracy: 0.9814\n",
      "Epoch 12/15\n",
      "60000/60000 [==============================] - 1s 22us/sample - loss: 0.0763 - accuracy: 0.9819\n",
      "Epoch 13/15\n",
      "60000/60000 [==============================] - 1s 22us/sample - loss: 0.0634 - accuracy: 0.9846\n",
      "Epoch 14/15\n",
      "60000/60000 [==============================] - 1s 22us/sample - loss: 0.0606 - accuracy: 0.9843\n",
      "Epoch 15/15\n",
      "60000/60000 [==============================] - 1s 22us/sample - loss: 0.0659 - accuracy: 0.9835\n"
     ]
    },
    {
     "data": {
      "text/plain": [
       "<tensorflow.python.keras.callbacks.History at 0x139b040d0>"
      ]
     },
     "execution_count": 5,
     "metadata": {},
     "output_type": "execute_result"
    }
   ],
   "source": [
    "# 훈련 준비\n",
    "model.compile(loss='categorical_crossentropy', optimizer=tf.optimizers.Adam(learning_rate=learning_rate), metrics=['accuracy'])\n",
    "model.summary()\n",
    "\n",
    "# 훈련\n",
    "model.fit(train_X, train_Y, batch_size=batch_size, epochs=num_epochs)"
   ]
  },
  {
   "cell_type": "markdown",
   "metadata": {},
   "source": [
    "## 5. 모델 평가"
   ]
  },
  {
   "cell_type": "code",
   "execution_count": 6,
   "metadata": {},
   "outputs": [
    {
     "name": "stdout",
     "output_type": "stream",
     "text": [
      "loss : 0.22859, accuracy : 0.964900016784668\n"
     ]
    }
   ],
   "source": [
    "loss, accuracy = model.evaluate(test_X,test_Y,batch_size=batch_size,verbose=0)\n",
    "print(\"loss : {:.5f}, accuracy : {}\".format(loss,accuracy))"
   ]
  },
  {
   "cell_type": "markdown",
   "metadata": {},
   "source": [
    "### 결과\n",
    "입력층, 출력층 말고 은닉층 하나만을 추가하였는데도 정확도를 높이 올릴 수 있게 되었다.\n",
    "### 정확도 : 96%"
   ]
  }
 ],
 "metadata": {
  "kernelspec": {
   "display_name": "Python 3",
   "language": "python",
   "name": "python3"
  },
  "language_info": {
   "codemirror_mode": {
    "name": "ipython",
    "version": 3
   },
   "file_extension": ".py",
   "mimetype": "text/x-python",
   "name": "python",
   "nbconvert_exporter": "python",
   "pygments_lexer": "ipython3",
   "version": "3.7.6"
  }
 },
 "nbformat": 4,
 "nbformat_minor": 2
}
