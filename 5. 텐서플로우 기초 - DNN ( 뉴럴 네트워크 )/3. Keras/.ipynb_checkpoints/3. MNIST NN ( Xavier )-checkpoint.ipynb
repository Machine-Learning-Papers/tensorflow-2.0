{
 "cells": [
  {
   "cell_type": "markdown",
   "metadata": {},
   "source": [
    "# MNIST NN ( Xavier )\n",
    "> 참고\n",
    "1. Naver Edwith\n",
    "\n",
    "머신러닝의 목표는 옵티마이저를 통해 파라미터값을 훈련시켜 비용함수를 줄이는 것이다. 하지만, 파라미터값의 초기값에 따라서 훈련의 내용이 달라지므로, 초기값을 잘 설정하는 것은 매우 중요합니다."
   ]
  },
  {
   "cell_type": "code",
   "execution_count": 1,
   "metadata": {},
   "outputs": [
    {
     "name": "stdout",
     "output_type": "stream",
     "text": [
      "2.1.0\n"
     ]
    }
   ],
   "source": [
    "from __future__ import absolute_import, division, print_function, unicode_literals\n",
    "import tensorflow as tf\n",
    "import matplotlib.pyplot as plt\n",
    "import numpy as np\n",
    "print(tf.__version__)"
   ]
  },
  {
   "cell_type": "markdown",
   "metadata": {},
   "source": [
    "## 1. 데이터 불러오기 & 간단한 전처리"
   ]
  },
  {
   "cell_type": "code",
   "execution_count": 2,
   "metadata": {},
   "outputs": [],
   "source": [
    "# 데이터 불러오기 & 전처리\n",
    "def load_mnist():\n",
    "    (train_x, train_y), (test_x, test_y) = tf.keras.datasets.mnist.load_data()\n",
    "    # as_dtype & normalize\n",
    "    train_x = tf.constant(train_x, dtype=tf.float32) / 255.0\n",
    "    test_x = tf.constant(test_x, dtype=tf.float32) / 255.0\n",
    "\n",
    "    # expand_dims ( image )\n",
    "    train_x = tf.expand_dims(train_x, axis=-1)  # [N, 28, 28] -> [N, 28, 28, 1]\n",
    "    test_x = tf.expand_dims(test_x, axis=-1)  # [N, 28, 28] -> [N, 28, 28, 1]\n",
    "\n",
    "    # label one-hot encoding\n",
    "    train_y = tf.one_hot(train_y, depth=10)\n",
    "    test_y = tf.one_hot(test_y, depth=10)\n",
    "\n",
    "    return train_x, train_y, test_x, test_y\n",
    "\n",
    "\n",
    "train_X, train_Y, test_X, test_Y = load_mnist()"
   ]
  },
  {
   "cell_type": "markdown",
   "metadata": {},
   "source": [
    "## 2. 하이퍼파라미터 설정"
   ]
  },
  {
   "cell_type": "code",
   "execution_count": 3,
   "metadata": {},
   "outputs": [],
   "source": [
    "# 하이퍼파라미터 설정\n",
    "learning_rate = 0.001\n",
    "batch_size = 100\n",
    "training_epochs = 5\n",
    "num_classes = 10"
   ]
  },
  {
   "cell_type": "markdown",
   "metadata": {},
   "source": [
    "## 3. 모델 생성 및 구성\n",
    "> 참고\n",
    "1. https://www.edwith.org/boostcourse-dl-tensorflow/lecture/43736/\n",
    "2. https://reniew.github.io/13/\n",
    "\n",
    "* Dense메서드에 kernel_initializer='glorot_normal'을 통해 초기값 설정.\n",
    "    * glorot_normal = xavier"
   ]
  },
  {
   "cell_type": "code",
   "execution_count": 4,
   "metadata": {},
   "outputs": [
    {
     "name": "stdout",
     "output_type": "stream",
     "text": [
      "Model: \"sequential\"\n",
      "_________________________________________________________________\n",
      "Layer (type)                 Output Shape              Param #   \n",
      "=================================================================\n",
      "flatten (Flatten)            multiple                  0         \n",
      "_________________________________________________________________\n",
      "dense (Dense)                multiple                  200960    \n",
      "_________________________________________________________________\n",
      "dense_1 (Dense)              multiple                  65792     \n",
      "_________________________________________________________________\n",
      "dense_2 (Dense)              multiple                  2570      \n",
      "=================================================================\n",
      "Total params: 269,322\n",
      "Trainable params: 269,322\n",
      "Non-trainable params: 0\n",
      "_________________________________________________________________\n"
     ]
    }
   ],
   "source": [
    "# 모델 생성 및 구성\n",
    "model = tf.keras.Sequential()\n",
    "model.add(tf.keras.layers.Flatten())\n",
    "model.add(tf.keras.layers.Dense(input_shape=[-1,784], units=256, kernel_initializer='glorot_normal', activation='relu'))\n",
    "model.add(tf.keras.layers.Dense(input_shape=[-1,256], units=256, kernel_initializer='glorot_normal', activation='relu'))\n",
    "model.add(tf.keras.layers.Dense(input_shape=[-1,256], units=10, kernel_initializer='glorot_normal', activation='softmax'))\n",
    "\n",
    "# 훈련 준비\n",
    "model.compile(loss='categorical_crossentropy', optimizer=tf.keras.optimizers.Adam(learning_rate=learning_rate), metrics=['accuracy'])\n",
    "model.build(input_shape=train_X.shape)\n",
    "model.summary()"
   ]
  },
  {
   "cell_type": "markdown",
   "metadata": {},
   "source": [
    "## 4. 훈련 및 평가"
   ]
  },
  {
   "cell_type": "code",
   "execution_count": 8,
   "metadata": {},
   "outputs": [
    {
     "name": "stdout",
     "output_type": "stream",
     "text": [
      "Train on 60000 samples\n",
      "Epoch 1/5\n",
      "60000/60000 [==============================] - 2s 27us/sample - loss: 0.0073 - accuracy: 0.9978\n",
      "Epoch 2/5\n",
      "60000/60000 [==============================] - 2s 26us/sample - loss: 0.0103 - accuracy: 0.9965\n",
      "Epoch 3/5\n",
      "60000/60000 [==============================] - 2s 27us/sample - loss: 0.0082 - accuracy: 0.9973\n",
      "Epoch 4/5\n",
      "60000/60000 [==============================] - 2s 27us/sample - loss: 0.0082 - accuracy: 0.9976\n",
      "Epoch 5/5\n",
      "60000/60000 [==============================] - 2s 26us/sample - loss: 0.0094 - accuracy: 0.9967\n",
      "cost : 0.09698255738759358, accuracy : 0.9805999994277954\n"
     ]
    }
   ],
   "source": [
    "# 훈련 시작 및 로그 저장\n",
    "history = model.fit(train_X, train_Y, batch_size=batch_size, epochs=training_epochs)\n",
    "\n",
    "# 검증 데이터를 사용한 검증.\n",
    "cost, accuracy = model.evaluate(test_X,test_Y,batch_size=batch_size,verbose=0)\n",
    "print(\"cost : {}, accuracy : {}\".format(cost, accuracy))"
   ]
  },
  {
   "cell_type": "markdown",
   "metadata": {},
   "source": [
    "### 결과\n",
    "초기값만 잘 설정해도 정확도를 높일 수 있다.\n",
    "정확도 : 98%"
   ]
  }
 ],
 "metadata": {
  "kernelspec": {
   "display_name": "Python 3",
   "language": "python",
   "name": "python3"
  },
  "language_info": {
   "codemirror_mode": {
    "name": "ipython",
    "version": 3
   },
   "file_extension": ".py",
   "mimetype": "text/x-python",
   "name": "python",
   "nbconvert_exporter": "python",
   "pygments_lexer": "ipython3",
   "version": "3.7.6"
  }
 },
 "nbformat": 4,
 "nbformat_minor": 2
}
