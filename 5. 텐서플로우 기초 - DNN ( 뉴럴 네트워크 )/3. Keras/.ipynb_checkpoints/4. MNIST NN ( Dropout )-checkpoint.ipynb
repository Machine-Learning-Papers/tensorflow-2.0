{
 "cells": [
  {
   "cell_type": "markdown",
   "metadata": {},
   "source": [
    "# MNIST NN ( Dropout )\n",
    ">출처\n",
    "1. Naver Edwith\n",
    "2. Andrew NG - Machine Learning\n",
    "\n",
    "Dropout은 딥러닝의 Over-fitting을 방지하기 위한 Regularization(정규화)중 하나의 방법이다.  \n",
    "( Dropout만 추가하고 층만 2개 더 더한 예제이므로, 설명은 생략. )"
   ]
  },
  {
   "cell_type": "code",
   "execution_count": 1,
   "metadata": {},
   "outputs": [
    {
     "name": "stdout",
     "output_type": "stream",
     "text": [
      "2.1.0\n"
     ]
    }
   ],
   "source": [
    "from __future__ import absolute_import, division, print_function, unicode_literals\n",
    "import tensorflow as tf\n",
    "print(tf.__version__)"
   ]
  },
  {
   "cell_type": "code",
   "execution_count": 4,
   "metadata": {},
   "outputs": [],
   "source": [
    "# 데이터 불러오기 & 전처리\n",
    "def load_mnist():\n",
    "    (train_x, train_y), (test_x, test_y) = tf.keras.datasets.mnist.load_data()\n",
    "    # as_dtype & normalize\n",
    "    train_x = tf.constant(train_x, dtype=tf.float32) / 255.0\n",
    "    test_x = tf.constant(test_x, dtype=tf.float32) / 255.0\n",
    "\n",
    "    # expand_dims ( image )\n",
    "    train_x = tf.expand_dims(train_x, axis=-1)  # [N, 28, 28] -> [N, 28, 28, 1]\n",
    "    test_x = tf.expand_dims(test_x, axis=-1)  # [N, 28, 28] -> [N, 28, 28, 1]\n",
    "\n",
    "    # label one-hot encoding\n",
    "    train_y = tf.one_hot(train_y, depth=10)\n",
    "    test_y = tf.one_hot(test_y, depth=10)\n",
    "\n",
    "    return train_x, train_y, test_x, test_y\n",
    "\n",
    "\n",
    "train_X, train_Y, test_X, test_Y = load_mnist()\n",
    "\n",
    "# 하이퍼파라미터 설정\n",
    "learning_rate = 0.001\n",
    "batch_size = 100\n",
    "training_epochs = 5\n",
    "num_classes = 10\n",
    "drop_rate = 0.3"
   ]
  },
  {
   "cell_type": "markdown",
   "metadata": {},
   "source": [
    "## Dropout\n",
    "* Dropout하고자하는 층에서 Dropout을 추가하면 됩니다."
   ]
  },
  {
   "cell_type": "code",
   "execution_count": 5,
   "metadata": {},
   "outputs": [
    {
     "name": "stdout",
     "output_type": "stream",
     "text": [
      "Model: \"sequential\"\n",
      "_________________________________________________________________\n",
      "Layer (type)                 Output Shape              Param #   \n",
      "=================================================================\n",
      "flatten (Flatten)            multiple                  0         \n",
      "_________________________________________________________________\n",
      "dense (Dense)                multiple                  401920    \n",
      "_________________________________________________________________\n",
      "dropout (Dropout)            multiple                  0         \n",
      "_________________________________________________________________\n",
      "dense_1 (Dense)              multiple                  262656    \n",
      "_________________________________________________________________\n",
      "dropout_1 (Dropout)          multiple                  0         \n",
      "_________________________________________________________________\n",
      "dense_2 (Dense)              multiple                  262656    \n",
      "_________________________________________________________________\n",
      "dropout_2 (Dropout)          multiple                  0         \n",
      "_________________________________________________________________\n",
      "dense_3 (Dense)              multiple                  262656    \n",
      "_________________________________________________________________\n",
      "dropout_3 (Dropout)          multiple                  0         \n",
      "_________________________________________________________________\n",
      "dense_4 (Dense)              multiple                  5130      \n",
      "=================================================================\n",
      "Total params: 1,195,018\n",
      "Trainable params: 1,195,018\n",
      "Non-trainable params: 0\n",
      "_________________________________________________________________\n"
     ]
    }
   ],
   "source": [
    "# 모델 생성 및 구성\n",
    "model = tf.keras.Sequential()\n",
    "model.add(tf.keras.layers.Flatten())\n",
    "model.add(tf.keras.layers.Dense(input_shape=[-1,784], units=512, kernel_initializer='glorot_normal', activation='relu'))\n",
    "model.add(tf.keras.layers.Dropout(rate=drop_rate))\n",
    "model.add(tf.keras.layers.Dense(input_shape=[-1,512], units=512, kernel_initializer='glorot_normal', activation='relu'))\n",
    "model.add(tf.keras.layers.Dropout(rate=drop_rate))\n",
    "model.add(tf.keras.layers.Dense(input_shape=[-1,512], units=512, kernel_initializer='glorot_normal', activation='relu'))\n",
    "model.add(tf.keras.layers.Dropout(rate=drop_rate))\n",
    "model.add(tf.keras.layers.Dense(input_shape=[-1,512], units=512, kernel_initializer='glorot_normal', activation='relu'))\n",
    "model.add(tf.keras.layers.Dropout(rate=drop_rate))\n",
    "model.add(tf.keras.layers.Dense(input_shape=[-1,512], units=num_classes, kernel_initializer='glorot_normal', activation='softmax'))\n",
    "\n",
    "# 훈련 준비\n",
    "model.compile(loss='categorical_crossentropy', optimizer=tf.keras.optimizers.Adam(learning_rate=learning_rate), metrics=['accuracy'])\n",
    "model.build(input_shape=train_X.shape)\n",
    "model.summary()"
   ]
  },
  {
   "cell_type": "code",
   "execution_count": 7,
   "metadata": {},
   "outputs": [
    {
     "name": "stdout",
     "output_type": "stream",
     "text": [
      "Train on 60000 samples\n",
      "Epoch 1/5\n",
      "60000/60000 [==============================] - 6s 104us/sample - loss: 0.0747 - accuracy: 0.9779\n",
      "Epoch 2/5\n",
      "60000/60000 [==============================] - 6s 98us/sample - loss: 0.0670 - accuracy: 0.9807\n",
      "Epoch 3/5\n",
      "60000/60000 [==============================] - 5s 91us/sample - loss: 0.0616 - accuracy: 0.9818\n",
      "Epoch 4/5\n",
      "60000/60000 [==============================] - 5s 91us/sample - loss: 0.0570 - accuracy: 0.9830\n",
      "Epoch 5/5\n",
      "60000/60000 [==============================] - 6s 94us/sample - loss: 0.0579 - accuracy: 0.9836\n",
      "cost : 0.08253670597718156, accuracy : 0.9793000221252441\n"
     ]
    }
   ],
   "source": [
    "# 훈련 시작 및 로그 저장\n",
    "history = model.fit(train_X, train_Y, batch_size=batch_size, epochs=training_epochs)\n",
    "\n",
    "# 검증 데이터를 사용한 검증.\n",
    "cost, accuracy = model.evaluate(test_X,test_Y,batch_size=batch_size,verbose=0)\n",
    "print(\"cost : {}, accuracy : {}\".format(cost, accuracy))"
   ]
  }
 ],
 "metadata": {
  "kernelspec": {
   "display_name": "Python 3",
   "language": "python",
   "name": "python3"
  },
  "language_info": {
   "codemirror_mode": {
    "name": "ipython",
    "version": 3
   },
   "file_extension": ".py",
   "mimetype": "text/x-python",
   "name": "python",
   "nbconvert_exporter": "python",
   "pygments_lexer": "ipython3",
   "version": "3.7.6"
  }
 },
 "nbformat": 4,
 "nbformat_minor": 2
}
