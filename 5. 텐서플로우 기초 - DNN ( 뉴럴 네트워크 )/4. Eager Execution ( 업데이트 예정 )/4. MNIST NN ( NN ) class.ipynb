{
 "cells": [
  {
   "cell_type": "markdown",
   "metadata": {},
   "source": [
    "# MNIST NN ( NN )\n",
    "MNIST NN 클래스(모듈)형식\n"
   ]
  },
  {
   "cell_type": "code",
   "execution_count": 2,
   "metadata": {},
   "outputs": [],
   "source": [
    "from __future__ import absolute_import, division, print_function, unicode_literals\n",
    "import tensorflow as tf"
   ]
  },
  {
   "cell_type": "markdown",
   "metadata": {},
   "source": [
    "## 1. 데이터 로드 & 전처리"
   ]
  },
  {
   "cell_type": "code",
   "execution_count": 13,
   "metadata": {},
   "outputs": [
    {
     "name": "stdout",
     "output_type": "stream",
     "text": [
      "tf.Tensor(\n",
      "[[0. 0. 0. ... 0. 0. 0.]\n",
      " [1. 0. 0. ... 0. 0. 0.]\n",
      " [0. 0. 0. ... 0. 0. 0.]\n",
      " ...\n",
      " [0. 0. 0. ... 0. 0. 0.]\n",
      " [0. 0. 0. ... 0. 0. 0.]\n",
      " [0. 0. 0. ... 0. 1. 0.]], shape=(60000, 10), dtype=float32)\n"
     ]
    }
   ],
   "source": [
    "def load_mnist():\n",
    "    (train_x, train_y), (test_x, test_y) = tf.keras.datasets.mnist.load_data()\n",
    "    # as_dtype & normalize\n",
    "    train_x = tf.constant(train_x, dtype=tf.float32) / 255.0\n",
    "    test_x = tf.constant(test_x, dtype=tf.float32) / 255.0\n",
    "    \n",
    "    # expand_dims ( image )\n",
    "    train_x = tf.expand_dims(train_x, axis=-1) # [N, 28, 28] -> [N, 28, 28, 1]\n",
    "    test_x = tf.expand_dims(test_x, axis=-1) # [N, 28, 28] -> [N, 28, 28, 1]\n",
    "    \n",
    "    # label one-hot encoding\n",
    "    train_y = tf.one_hot(train_y, depth = 10)\n",
    "    test_y = tf.one_hot(test_y, depth = 10)\n",
    "    \n",
    "    return train_x, train_y, test_x, test_y\n",
    "\n",
    "train_X, train_Y, test_X, test_Y = load_mnist()\n",
    "\n"
   ]
  },
  {
   "cell_type": "code",
   "execution_count": null,
   "metadata": {},
   "outputs": [],
   "source": []
  }
 ],
 "metadata": {
  "kernelspec": {
   "display_name": "Python 3",
   "language": "python",
   "name": "python3"
  },
  "language_info": {
   "codemirror_mode": {
    "name": "ipython",
    "version": 3
   },
   "file_extension": ".py",
   "mimetype": "text/x-python",
   "name": "python",
   "nbconvert_exporter": "python",
   "pygments_lexer": "ipython3",
   "version": "3.7.6"
  }
 },
 "nbformat": 4,
 "nbformat_minor": 2
}
