{
 "cells": [
  {
   "cell_type": "markdown",
   "metadata": {},
   "source": [
    "# XOR - Logistic Regression\n",
    "> 공부를 목적으로 정리한 노트북입니다.  \n",
    "참고\n",
    "1. https://github.com/deeplearningzerotoall/TensorFlow/blob/master/tf_2.x/lab-09-1-XOR-eager.ipynb  \n",
    "수학적 정의는 Coursera의 Andrew NG 교수님의 수업을 추천합니다.\n",
    "\n",
    "XOR문제를 로지스틱 회귀를 통해서 풀어보도록 하겠습니다."
   ]
  },
  {
   "cell_type": "code",
   "execution_count": 1,
   "metadata": {},
   "outputs": [],
   "source": [
    "from __future__ import absolute_import, division, print_function, unicode_literals\n",
    "import tensorflow as tf\n",
    "import matplotlib.pyplot as plt"
   ]
  },
  {
   "cell_type": "markdown",
   "metadata": {},
   "source": [
    "## 1. 데이터"
   ]
  },
  {
   "cell_type": "code",
   "execution_count": 2,
   "metadata": {},
   "outputs": [
    {
     "data": {
      "image/png": "[encoded data removed]",
      "text/plain": [
       "<Figure size 432x288 with 1 Axes>"
      ]
     },
     "metadata": {
      "needs_background": "light"
     },
     "output_type": "display_data"
    }
   ],
   "source": [
    "# 데이터\n",
    "data_X = tf.constant([[0., 0.],[0., 1.],[1., 0.],[1., 1.]],dtype=tf.float32)\n",
    "data_Y = tf.constant([[0.],[1.],[1.],[0.]],dtype=tf.float32)\n",
    "\n",
    "# 데이터 시각화\n",
    "plt.scatter(data_X[0][0].numpy(),data_X[0][1].numpy(), c='red' , marker='s')\n",
    "plt.scatter(data_X[3][0].numpy(),data_X[3][1].numpy(), c='red' , marker='s')\n",
    "plt.scatter(data_X[1][0].numpy(),data_X[1][1].numpy(), c='blue' , marker='^')\n",
    "plt.scatter(data_X[2][0].numpy(),data_X[2][1].numpy(), c='blue' , marker='^')\n",
    "\n",
    "plt.xlabel(\"x1\")\n",
    "plt.ylabel(\"x2\")\n",
    "plt.show()"
   ]
  },
  {
   "cell_type": "markdown",
   "metadata": {},
   "source": [
    "## 2. 파라미터 및 함수 정의\n",
    "\n",
    "### 파라미터"
   ]
  },
  {
   "cell_type": "code",
   "execution_count": 3,
   "metadata": {},
   "outputs": [],
   "source": [
    "# 파라미터\n",
    "W = tf.Variable(tf.random.normal([2,1]), dtype=tf.float32)\n",
    "b = tf.Variable(tf.random.normal([1]), dtype=tf.float32)\n",
    "\n",
    "# 하이퍼 파라미터\n",
    "learning_rate = 0.01\n",
    "num_epoch = 1000"
   ]
  },
  {
   "cell_type": "markdown",
   "metadata": {},
   "source": [
    "#### 가설함수 ( 시그모이드 )"
   ]
  },
  {
   "cell_type": "code",
   "execution_count": 4,
   "metadata": {},
   "outputs": [],
   "source": [
    "# 함수 정의 ( 시그모이드 함수 )\n",
    "def hypothesis(x):\n",
    "    hypothesis = tf.divide(1., 1. + tf.exp(tf.matmul(x, W) + b))\n",
    "    return hypothesis"
   ]
  },
  {
   "cell_type": "markdown",
   "metadata": {},
   "source": [
    "#### 비용 함수 ( 로지스틱 회귀의 비용 함수)"
   ]
  },
  {
   "cell_type": "code",
   "execution_count": 5,
   "metadata": {},
   "outputs": [],
   "source": [
    "# 비용 함수 ( 로지스틱 회귀의 비용함수 )\n",
    "def loss(y_true, y_pred):\n",
    "    return -tf.reduce_mean(y_true * tf.math.log(y_pred) + (1 - y_true) * tf.math.log( 1- y_pred))"
   ]
  },
  {
   "cell_type": "markdown",
   "metadata": {},
   "source": [
    "#### 옵티마이저"
   ]
  },
  {
   "cell_type": "code",
   "execution_count": 6,
   "metadata": {},
   "outputs": [],
   "source": [
    "# SGD ( ) ( optimizers 클래스 사용 )\n",
    "optimizer = tf.keras.optimizers.SGD(learning_rate=learning_rate)"
   ]
  },
  {
   "cell_type": "markdown",
   "metadata": {},
   "source": [
    "#### 경사값(미분값) 구하기 "
   ]
  },
  {
   "cell_type": "code",
   "execution_count": 7,
   "metadata": {},
   "outputs": [],
   "source": [
    "# 경사값 ( 미분 값 )\n",
    "def grad(x,y):\n",
    "    with tf.GradientTape() as tape:\n",
    "        predict = hypothesis(x)\n",
    "        cost = loss(y, predict)\n",
    "    return tape.gradient(cost,[W,b])"
   ]
  },
  {
   "cell_type": "markdown",
   "metadata": {},
   "source": [
    "#### 평가"
   ]
  },
  {
   "cell_type": "code",
   "execution_count": 8,
   "metadata": {},
   "outputs": [],
   "source": [
    "# 평가\n",
    "def evaluate(x,y):\n",
    "    predict = tf.cast(hypothesis(x) > 0.5 , dtype=tf.float32)\n",
    "    accuracy = tf.reduce_mean(tf.cast(tf.equal(predict, y), dtype=tf.float32))\n",
    "    return accuracy"
   ]
  },
  {
   "cell_type": "markdown",
   "metadata": {},
   "source": [
    "## 3. 훈련 및 평가"
   ]
  },
  {
   "cell_type": "code",
   "execution_count": 9,
   "metadata": {},
   "outputs": [
    {
     "name": "stdout",
     "output_type": "stream",
     "text": [
      "Step : 0, Cost : 0.7881\n",
      "Step : 100, Cost : 0.7675\n",
      "Step : 200, Cost : 0.7548\n",
      "Step : 300, Cost : 0.7461\n",
      "Step : 400, Cost : 0.7397\n",
      "Step : 500, Cost : 0.7347\n",
      "Step : 600, Cost : 0.7304\n",
      "Step : 700, Cost : 0.7268\n",
      "Step : 800, Cost : 0.7235\n",
      "Step : 900, Cost : 0.7206\n",
      "W = [[ 0.8758151 ]\n",
      " [-0.00681137]], b = [-0.5322544]\n",
      "Accuracy : 0.5\n"
     ]
    }
   ],
   "source": [
    "# 훈련\n",
    "for step in range(num_epoch):\n",
    "\n",
    "    grads = grad(data_X, data_Y)\n",
    "    optimizer.apply_gradients(grads_and_vars=zip(grads,[W,b]))\n",
    "\n",
    "\n",
    "    if(step % 100 == 0):\n",
    "        print(\"Step : {}, Cost : {:.4f}\".format(step, loss(data_Y, hypothesis(data_X))))\n",
    "        \n",
    "# 훈련 후 평가\n",
    "print(\"W = {}, b = {}\".format(W.numpy(), b.numpy()))\n",
    "accuracy = evaluate(data_X, data_Y)\n",
    "print(\"Accuracy : {}\".format(accuracy))"
   ]
  },
  {
   "cell_type": "markdown",
   "metadata": {},
   "source": [
    "#### 테스트 결과\n",
    "* 테스트 결과를 보면 50%인 것을 볼 수 있는데, 이는 로지스틱 회귀로는 XOR 문제를 풀 수 없다는 것을 증명한다."
   ]
  }
 ],
 "metadata": {
  "kernelspec": {
   "display_name": "Python 3",
   "language": "python",
   "name": "python3"
  },
  "language_info": {
   "codemirror_mode": {
    "name": "ipython",
    "version": 3
   },
   "file_extension": ".py",
   "mimetype": "text/x-python",
   "name": "python",
   "nbconvert_exporter": "python",
   "pygments_lexer": "ipython3",
   "version": "3.7.6"
  }
 },
 "nbformat": 4,
 "nbformat_minor": 2
}
